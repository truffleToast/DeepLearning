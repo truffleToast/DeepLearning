{
  "nbformat": 4,
  "nbformat_minor": 0,
  "metadata": {
    "colab": {
      "provenance": [],
      "gpuType": "T4",
      "include_colab_link": true
    },
    "kernelspec": {
      "name": "python3",
      "display_name": "Python 3"
    },
    "language_info": {
      "name": "python"
    },
    "accelerator": "GPU"
  },
  "cells": [
    {
      "cell_type": "markdown",
      "metadata": {
        "id": "view-in-github",
        "colab_type": "text"
      },
      "source": [
        "<a href=\"https://colab.research.google.com/github/truffleToast/DeepLearning/blob/main/ex04_.ipynb\" target=\"_parent\"><img src=\"https://colab.research.google.com/assets/colab-badge.svg\" alt=\"Open In Colab\"/></a>"
      ]
    },
    {
      "cell_type": "code",
      "source": [
        "from google.colab import drive\n",
        "drive.mount('/content/drive')"
      ],
      "metadata": {
        "colab": {
          "base_uri": "https://localhost:8080/"
        },
        "id": "Aucx1sVnBhll",
        "outputId": "add3ea5d-fec6-45b3-81d2-6ebe871a2f78"
      },
      "execution_count": null,
      "outputs": [
        {
          "output_type": "stream",
          "name": "stdout",
          "text": [
            "Drive already mounted at /content/drive; to attempt to forcibly remount, call drive.mount(\"/content/drive\", force_remount=True).\n"
          ]
        }
      ]
    },
    {
      "cell_type": "code",
      "source": [
        "import os\n",
        "\n",
        "# /content/drive/MyDrive/Colab Notebooks/DeepLearning/data/dogs_vs_cats_small\n",
        "# 데이터 경로 지정\n",
        "train_dir = '/content/drive/MyDrive/Colab Notebooks/deepLearning/data/dogs_vs_cats_small/train'\n",
        "valid_dir = '/content/drive/MyDrive/Colab Notebooks/deepLearning/data/dogs_vs_cats_small/validation'\n",
        "\n",
        "train_dir_dog = os.path.join(train_dir, \"dogs\")\n",
        "train_dir_cat = os.path.join(train_dir, \"cats\")\n",
        "valid_dir_dog = os.path.join(valid_dir, \"dogs\")\n",
        "valid_dir_cat = os.path.join(valid_dir, \"cats\")"
      ],
      "metadata": {
        "id": "p4AO1xNU0Jga"
      },
      "execution_count": null,
      "outputs": []
    },
    {
      "cell_type": "code",
      "source": [
        "import os\n",
        "\n",
        "print(f\"훈련데이터 개수 (개) : {len(os.listdir(train_dir_dog))}\")\n",
        "print(f\"훈련데이터 개수 (고양이) : {len(os.listdir(train_dir_cat))}\")\n",
        "print(f\"훈련데이터 개수 (개) : {len(os.listdir(valid_dir_dog))}\")\n",
        "print(f\"훈련데이터 개수 (고양이) : {len(os.listdir(valid_dir_cat))}\")"
      ],
      "metadata": {
        "colab": {
          "base_uri": "https://localhost:8080/"
        },
        "id": "-D6s2KYGG_ZN",
        "outputId": "06bdfbec-99e8-4327-c594-b9db04527a93"
      },
      "execution_count": null,
      "outputs": [
        {
          "output_type": "stream",
          "name": "stdout",
          "text": [
            "훈련데이터 개수 (개) : 1000\n",
            "훈련데이터 개수 (고양이) : 1000\n",
            "훈련데이터 개수 (개) : 500\n",
            "훈련데이터 개수 (고양이) : 500\n"
          ]
        }
      ]
    },
    {
      "cell_type": "code",
      "source": [
        "# 하나의 변수에 이미지 파일 전부 다 합치기\n",
        "# 픽셀값 변경 (0~255 정수) -> (0~1 실수)\n",
        "## 1. 숫자의 크기 줄이기\n",
        "## 2. 분산(값이 분표해있는 범위) 줄이기 -> 연산 상의 오류 줄어듦\n",
        "# 이미지 크기 맞춰주기(150,150)\n",
        "# 라벨링\n",
        "from tensorflow.keras.preprocessing.image import ImageDataGenerator"
      ],
      "metadata": {
        "id": "cmIloWdO9qzj"
      },
      "execution_count": null,
      "outputs": []
    },
    {
      "cell_type": "code",
      "source": [
        "# 픽셀값 변경하기\n",
        "# 묵시적 형변환 하기\n",
        "## 프로그래밍에서 연산상에서 타입이 변경되도록 하기\n",
        "generator = ImageDataGenerator(rescale = 1./255) # 1. -> 1.0"
      ],
      "metadata": {
        "id": "0Gvmccvr9qwz"
      },
      "execution_count": null,
      "outputs": []
    },
    {
      "cell_type": "code",
      "source": [
        "# 하나의 변수에 이미지 파일 전부 합치기\n",
        "# 이미지 크기 동일하게 만들어주기\n",
        "# 라벨링\n",
        "train_generator = generator.flow_from_directory(\n",
        "    directory = train_dir, # train 이미지 경로, 변환할 이미지\n",
        "    target_size = (150,150), # 변환할 이미지의 크기\n",
        "    batch_size = 100, # 한 번에 변환할 이미지 개수\n",
        "    class_mode = 'binary' # 라벨링 방법, 다중분류 : categorical\n",
        ")"
      ],
      "metadata": {
        "colab": {
          "base_uri": "https://localhost:8080/"
        },
        "id": "kN4xN79O9qre",
        "outputId": "2d2fb8dc-ca2c-4e07-8542-538493034d02"
      },
      "execution_count": null,
      "outputs": [
        {
          "output_type": "stream",
          "name": "stdout",
          "text": [
            "Found 2000 images belonging to 2 classes.\n"
          ]
        }
      ]
    },
    {
      "cell_type": "code",
      "source": [
        "valid_generator = generator.flow_from_directory(\n",
        "    directory = valid_dir, # train 이미지 경로, 변환할 이미지\n",
        "    target_size = (150,150), # 변환할 이미지의 크기\n",
        "    batch_size = 100, # 한 번에 변환할 이미지 개수\n",
        "    class_mode = 'binary' # 라벨링 방법, 다중분류 : categorical\n",
        ")"
      ],
      "metadata": {
        "id": "PiiCoqJb0Jkn",
        "colab": {
          "base_uri": "https://localhost:8080/"
        },
        "outputId": "187eec9d-550c-42e0-c58f-58b29fef40f7"
      },
      "execution_count": null,
      "outputs": [
        {
          "output_type": "stream",
          "name": "stdout",
          "text": [
            "Found 1000 images belonging to 2 classes.\n"
          ]
        }
      ]
    },
    {
      "cell_type": "code",
      "source": [
        "# CNN 모델 설계\n",
        "from tensorflow.keras import Sequential\n",
        "from tensorflow.keras.layers import Dense, Conv2D, MaxPool2D,  Flatten"
      ],
      "metadata": {
        "id": "I5MKkBNU0Jpk"
      },
      "execution_count": null,
      "outputs": []
    },
    {
      "cell_type": "code",
      "source": [
        "# Dense만 사용 = MLP\n",
        "# Conv, Pool 주로 사용 = CNN\n",
        "# 딥러닝 모델 생성\n",
        "# 건물 토대 설계\n",
        "model1 = Sequential()\n",
        "\n",
        "# 입력층\n",
        "model1.add(Conv2D(  # 특징 찾기\n",
        "     filters = 32, # 찾을 특징의 개수\n",
        "     kernel_size = (3,3), # 특징의 크기\n",
        "     input_shape = (150,150,3), # 입력 데이터의 모양 (3 = RGB(Red, Green, Blue))  # 0 : 검은색, 255 : 흰색\n",
        "     activation = 'relu'\n",
        "))\n",
        "\n",
        "model1.add(MaxPool2D( # 특징이 아닌 부분 삭제하기\n",
        "    pool_size = (2,2) # 기준 크기에서 한 개의 특징만 가져오기 / 4개 중 1개 사용하기\n",
        "))\n",
        "\n",
        "model1.add(Conv2D(  # 특징 찾기\n",
        "     filters = 32, # 찾을 특징의 개수\n",
        "     kernel_size = (3,3), # 특징의 크기\n",
        "     activation = 'relu'\n",
        "))\n",
        "\n",
        "model1.add(MaxPool2D( # 특징이 아닌 부분 삭제하기\n",
        "    pool_size = (2,2) # 기준 크기에서 한 개의 특징만 가져오기 / 4개 중 1개 사용하기\n",
        "))\n",
        "\n",
        "####################### 특징 추출부 끝 #######################\n",
        "model1.add(Flatten()) #  특징 추출부와 분류부를 이어주는 역할\n",
        "####################### 분류 분석 시작 #######################\n",
        "model1.add(Dense(units = 64, activation = 'relu'))\n",
        "model1.add(Dense(units = 128, activation = 'relu'))\n",
        "model1.add(Dense(units = 64, activation = 'relu'))\n",
        "model1.add(Dense(units = 32, activation = 'relu'))\n",
        "\n",
        "# 출력층\n",
        "model1.add(Dense(units = 1, activation = 'sigmoid'))"
      ],
      "metadata": {
        "id": "KtimUMgn0bIx"
      },
      "execution_count": null,
      "outputs": []
    },
    {
      "cell_type": "code",
      "source": [
        "# 학습 방법 설정\n",
        "model1.compile(\n",
        "    loss = 'binary_crossentropy',\n",
        "    optimizer = 'Adam',\n",
        "    metrics = ['accuracy']\n",
        "\n",
        "\n",
        ")"
      ],
      "metadata": {
        "id": "ZB0N9nt40bLc"
      },
      "execution_count": null,
      "outputs": []
    },
    {
      "cell_type": "code",
      "source": [
        "model1.fit(\n",
        "    train_generator, #학습 데이터(X_train, y_train이 합쳐져 있다.)\n",
        "    epochs = 20,\n",
        "    validation_data = valid_generator\n",
        ")"
      ],
      "metadata": {
        "colab": {
          "base_uri": "https://localhost:8080/",
          "height": 447
        },
        "id": "6pgFJypS0bOB",
        "outputId": "f73f4a39-8e5c-4e23-f4a0-0e3b61da114e"
      },
      "execution_count": null,
      "outputs": [
        {
          "output_type": "stream",
          "name": "stdout",
          "text": [
            "Epoch 1/20\n",
            "20/20 [==============================] - ETA: 0s - loss: 0.7356 - accuracy: 0.4910"
          ]
        },
        {
          "output_type": "error",
          "ename": "KeyboardInterrupt",
          "evalue": "ignored",
          "traceback": [
            "\u001b[0;31m---------------------------------------------------------------------------\u001b[0m",
            "\u001b[0;31mKeyboardInterrupt\u001b[0m                         Traceback (most recent call last)",
            "\u001b[0;32m<ipython-input-26-502a4611ad89>\u001b[0m in \u001b[0;36m<cell line: 1>\u001b[0;34m()\u001b[0m\n\u001b[0;32m----> 1\u001b[0;31m model1.fit(\n\u001b[0m\u001b[1;32m      2\u001b[0m     \u001b[0mtrain_generator\u001b[0m\u001b[0;34m,\u001b[0m \u001b[0;31m#학습 데이터(X_train, y_train이 합쳐져 있다.)\u001b[0m\u001b[0;34m\u001b[0m\u001b[0;34m\u001b[0m\u001b[0m\n\u001b[1;32m      3\u001b[0m     \u001b[0mepochs\u001b[0m \u001b[0;34m=\u001b[0m \u001b[0;36m20\u001b[0m\u001b[0;34m,\u001b[0m\u001b[0;34m\u001b[0m\u001b[0;34m\u001b[0m\u001b[0m\n\u001b[1;32m      4\u001b[0m     \u001b[0mvalidation_data\u001b[0m \u001b[0;34m=\u001b[0m \u001b[0mvalid_generator\u001b[0m\u001b[0;34m\u001b[0m\u001b[0;34m\u001b[0m\u001b[0m\n\u001b[1;32m      5\u001b[0m )\n",
            "\u001b[0;32m/usr/local/lib/python3.10/dist-packages/keras/src/utils/traceback_utils.py\u001b[0m in \u001b[0;36merror_handler\u001b[0;34m(*args, **kwargs)\u001b[0m\n\u001b[1;32m     63\u001b[0m         \u001b[0mfiltered_tb\u001b[0m \u001b[0;34m=\u001b[0m \u001b[0;32mNone\u001b[0m\u001b[0;34m\u001b[0m\u001b[0;34m\u001b[0m\u001b[0m\n\u001b[1;32m     64\u001b[0m         \u001b[0;32mtry\u001b[0m\u001b[0;34m:\u001b[0m\u001b[0;34m\u001b[0m\u001b[0;34m\u001b[0m\u001b[0m\n\u001b[0;32m---> 65\u001b[0;31m             \u001b[0;32mreturn\u001b[0m \u001b[0mfn\u001b[0m\u001b[0;34m(\u001b[0m\u001b[0;34m*\u001b[0m\u001b[0margs\u001b[0m\u001b[0;34m,\u001b[0m \u001b[0;34m**\u001b[0m\u001b[0mkwargs\u001b[0m\u001b[0;34m)\u001b[0m\u001b[0;34m\u001b[0m\u001b[0;34m\u001b[0m\u001b[0m\n\u001b[0m\u001b[1;32m     66\u001b[0m         \u001b[0;32mexcept\u001b[0m \u001b[0mException\u001b[0m \u001b[0;32mas\u001b[0m \u001b[0me\u001b[0m\u001b[0;34m:\u001b[0m\u001b[0;34m\u001b[0m\u001b[0;34m\u001b[0m\u001b[0m\n\u001b[1;32m     67\u001b[0m             \u001b[0mfiltered_tb\u001b[0m \u001b[0;34m=\u001b[0m \u001b[0m_process_traceback_frames\u001b[0m\u001b[0;34m(\u001b[0m\u001b[0me\u001b[0m\u001b[0;34m.\u001b[0m\u001b[0m__traceback__\u001b[0m\u001b[0;34m)\u001b[0m\u001b[0;34m\u001b[0m\u001b[0;34m\u001b[0m\u001b[0m\n",
            "\u001b[0;32m/usr/local/lib/python3.10/dist-packages/keras/src/engine/training.py\u001b[0m in \u001b[0;36mfit\u001b[0;34m(self, x, y, batch_size, epochs, verbose, callbacks, validation_split, validation_data, shuffle, class_weight, sample_weight, initial_epoch, steps_per_epoch, validation_steps, validation_batch_size, validation_freq, max_queue_size, workers, use_multiprocessing)\u001b[0m\n\u001b[1;32m   1789\u001b[0m                             \u001b[0mpss_evaluation_shards\u001b[0m\u001b[0;34m=\u001b[0m\u001b[0mself\u001b[0m\u001b[0;34m.\u001b[0m\u001b[0m_pss_evaluation_shards\u001b[0m\u001b[0;34m,\u001b[0m\u001b[0;34m\u001b[0m\u001b[0;34m\u001b[0m\u001b[0m\n\u001b[1;32m   1790\u001b[0m                         )\n\u001b[0;32m-> 1791\u001b[0;31m                     val_logs = self.evaluate(\n\u001b[0m\u001b[1;32m   1792\u001b[0m                         \u001b[0mx\u001b[0m\u001b[0;34m=\u001b[0m\u001b[0mval_x\u001b[0m\u001b[0;34m,\u001b[0m\u001b[0;34m\u001b[0m\u001b[0;34m\u001b[0m\u001b[0m\n\u001b[1;32m   1793\u001b[0m                         \u001b[0my\u001b[0m\u001b[0;34m=\u001b[0m\u001b[0mval_y\u001b[0m\u001b[0;34m,\u001b[0m\u001b[0;34m\u001b[0m\u001b[0;34m\u001b[0m\u001b[0m\n",
            "\u001b[0;32m/usr/local/lib/python3.10/dist-packages/keras/src/utils/traceback_utils.py\u001b[0m in \u001b[0;36merror_handler\u001b[0;34m(*args, **kwargs)\u001b[0m\n\u001b[1;32m     63\u001b[0m         \u001b[0mfiltered_tb\u001b[0m \u001b[0;34m=\u001b[0m \u001b[0;32mNone\u001b[0m\u001b[0;34m\u001b[0m\u001b[0;34m\u001b[0m\u001b[0m\n\u001b[1;32m     64\u001b[0m         \u001b[0;32mtry\u001b[0m\u001b[0;34m:\u001b[0m\u001b[0;34m\u001b[0m\u001b[0;34m\u001b[0m\u001b[0m\n\u001b[0;32m---> 65\u001b[0;31m             \u001b[0;32mreturn\u001b[0m \u001b[0mfn\u001b[0m\u001b[0;34m(\u001b[0m\u001b[0;34m*\u001b[0m\u001b[0margs\u001b[0m\u001b[0;34m,\u001b[0m \u001b[0;34m**\u001b[0m\u001b[0mkwargs\u001b[0m\u001b[0;34m)\u001b[0m\u001b[0;34m\u001b[0m\u001b[0;34m\u001b[0m\u001b[0m\n\u001b[0m\u001b[1;32m     66\u001b[0m         \u001b[0;32mexcept\u001b[0m \u001b[0mException\u001b[0m \u001b[0;32mas\u001b[0m \u001b[0me\u001b[0m\u001b[0;34m:\u001b[0m\u001b[0;34m\u001b[0m\u001b[0;34m\u001b[0m\u001b[0m\n\u001b[1;32m     67\u001b[0m             \u001b[0mfiltered_tb\u001b[0m \u001b[0;34m=\u001b[0m \u001b[0m_process_traceback_frames\u001b[0m\u001b[0;34m(\u001b[0m\u001b[0me\u001b[0m\u001b[0;34m.\u001b[0m\u001b[0m__traceback__\u001b[0m\u001b[0;34m)\u001b[0m\u001b[0;34m\u001b[0m\u001b[0;34m\u001b[0m\u001b[0m\n",
            "\u001b[0;32m/usr/local/lib/python3.10/dist-packages/keras/src/engine/training.py\u001b[0m in \u001b[0;36mevaluate\u001b[0;34m(self, x, y, batch_size, verbose, sample_weight, steps, callbacks, max_queue_size, workers, use_multiprocessing, return_dict, **kwargs)\u001b[0m\n\u001b[1;32m   2198\u001b[0m                         ):\n\u001b[1;32m   2199\u001b[0m                             \u001b[0mcallbacks\u001b[0m\u001b[0;34m.\u001b[0m\u001b[0mon_test_batch_begin\u001b[0m\u001b[0;34m(\u001b[0m\u001b[0mstep\u001b[0m\u001b[0;34m)\u001b[0m\u001b[0;34m\u001b[0m\u001b[0;34m\u001b[0m\u001b[0m\n\u001b[0;32m-> 2200\u001b[0;31m                             logs = test_function_runner.run_step(\n\u001b[0m\u001b[1;32m   2201\u001b[0m                                 \u001b[0mdataset_or_iterator\u001b[0m\u001b[0;34m,\u001b[0m\u001b[0;34m\u001b[0m\u001b[0;34m\u001b[0m\u001b[0m\n\u001b[1;32m   2202\u001b[0m                                 \u001b[0mdata_handler\u001b[0m\u001b[0;34m,\u001b[0m\u001b[0;34m\u001b[0m\u001b[0;34m\u001b[0m\u001b[0m\n",
            "\u001b[0;32m/usr/local/lib/python3.10/dist-packages/keras/src/engine/training.py\u001b[0m in \u001b[0;36mrun_step\u001b[0;34m(self, dataset_or_iterator, data_handler, step, unused_shards)\u001b[0m\n\u001b[1;32m   3998\u001b[0m \u001b[0;34m\u001b[0m\u001b[0m\n\u001b[1;32m   3999\u001b[0m     \u001b[0;32mdef\u001b[0m \u001b[0mrun_step\u001b[0m\u001b[0;34m(\u001b[0m\u001b[0mself\u001b[0m\u001b[0;34m,\u001b[0m \u001b[0mdataset_or_iterator\u001b[0m\u001b[0;34m,\u001b[0m \u001b[0mdata_handler\u001b[0m\u001b[0;34m,\u001b[0m \u001b[0mstep\u001b[0m\u001b[0;34m,\u001b[0m \u001b[0munused_shards\u001b[0m\u001b[0;34m)\u001b[0m\u001b[0;34m:\u001b[0m\u001b[0;34m\u001b[0m\u001b[0;34m\u001b[0m\u001b[0m\n\u001b[0;32m-> 4000\u001b[0;31m         \u001b[0mtmp_logs\u001b[0m \u001b[0;34m=\u001b[0m \u001b[0mself\u001b[0m\u001b[0;34m.\u001b[0m\u001b[0m_function\u001b[0m\u001b[0;34m(\u001b[0m\u001b[0mdataset_or_iterator\u001b[0m\u001b[0;34m)\u001b[0m\u001b[0;34m\u001b[0m\u001b[0;34m\u001b[0m\u001b[0m\n\u001b[0m\u001b[1;32m   4001\u001b[0m         \u001b[0;32mif\u001b[0m \u001b[0mdata_handler\u001b[0m\u001b[0;34m.\u001b[0m\u001b[0mshould_sync\u001b[0m\u001b[0;34m:\u001b[0m\u001b[0;34m\u001b[0m\u001b[0;34m\u001b[0m\u001b[0m\n\u001b[1;32m   4002\u001b[0m             \u001b[0mcontext\u001b[0m\u001b[0;34m.\u001b[0m\u001b[0masync_wait\u001b[0m\u001b[0;34m(\u001b[0m\u001b[0;34m)\u001b[0m\u001b[0;34m\u001b[0m\u001b[0;34m\u001b[0m\u001b[0m\n",
            "\u001b[0;32m/usr/local/lib/python3.10/dist-packages/tensorflow/python/util/traceback_utils.py\u001b[0m in \u001b[0;36merror_handler\u001b[0;34m(*args, **kwargs)\u001b[0m\n\u001b[1;32m    148\u001b[0m     \u001b[0mfiltered_tb\u001b[0m \u001b[0;34m=\u001b[0m \u001b[0;32mNone\u001b[0m\u001b[0;34m\u001b[0m\u001b[0;34m\u001b[0m\u001b[0m\n\u001b[1;32m    149\u001b[0m     \u001b[0;32mtry\u001b[0m\u001b[0;34m:\u001b[0m\u001b[0;34m\u001b[0m\u001b[0;34m\u001b[0m\u001b[0m\n\u001b[0;32m--> 150\u001b[0;31m       \u001b[0;32mreturn\u001b[0m \u001b[0mfn\u001b[0m\u001b[0;34m(\u001b[0m\u001b[0;34m*\u001b[0m\u001b[0margs\u001b[0m\u001b[0;34m,\u001b[0m \u001b[0;34m**\u001b[0m\u001b[0mkwargs\u001b[0m\u001b[0;34m)\u001b[0m\u001b[0;34m\u001b[0m\u001b[0;34m\u001b[0m\u001b[0m\n\u001b[0m\u001b[1;32m    151\u001b[0m     \u001b[0;32mexcept\u001b[0m \u001b[0mException\u001b[0m \u001b[0;32mas\u001b[0m \u001b[0me\u001b[0m\u001b[0;34m:\u001b[0m\u001b[0;34m\u001b[0m\u001b[0;34m\u001b[0m\u001b[0m\n\u001b[1;32m    152\u001b[0m       \u001b[0mfiltered_tb\u001b[0m \u001b[0;34m=\u001b[0m \u001b[0m_process_traceback_frames\u001b[0m\u001b[0;34m(\u001b[0m\u001b[0me\u001b[0m\u001b[0;34m.\u001b[0m\u001b[0m__traceback__\u001b[0m\u001b[0;34m)\u001b[0m\u001b[0;34m\u001b[0m\u001b[0;34m\u001b[0m\u001b[0m\n",
            "\u001b[0;32m/usr/local/lib/python3.10/dist-packages/tensorflow/python/eager/polymorphic_function/polymorphic_function.py\u001b[0m in \u001b[0;36m__call__\u001b[0;34m(self, *args, **kwds)\u001b[0m\n\u001b[1;32m    823\u001b[0m \u001b[0;34m\u001b[0m\u001b[0m\n\u001b[1;32m    824\u001b[0m       \u001b[0;32mwith\u001b[0m \u001b[0mOptionalXlaContext\u001b[0m\u001b[0;34m(\u001b[0m\u001b[0mself\u001b[0m\u001b[0;34m.\u001b[0m\u001b[0m_jit_compile\u001b[0m\u001b[0;34m)\u001b[0m\u001b[0;34m:\u001b[0m\u001b[0;34m\u001b[0m\u001b[0;34m\u001b[0m\u001b[0m\n\u001b[0;32m--> 825\u001b[0;31m         \u001b[0mresult\u001b[0m \u001b[0;34m=\u001b[0m \u001b[0mself\u001b[0m\u001b[0;34m.\u001b[0m\u001b[0m_call\u001b[0m\u001b[0;34m(\u001b[0m\u001b[0;34m*\u001b[0m\u001b[0margs\u001b[0m\u001b[0;34m,\u001b[0m \u001b[0;34m**\u001b[0m\u001b[0mkwds\u001b[0m\u001b[0;34m)\u001b[0m\u001b[0;34m\u001b[0m\u001b[0;34m\u001b[0m\u001b[0m\n\u001b[0m\u001b[1;32m    826\u001b[0m \u001b[0;34m\u001b[0m\u001b[0m\n\u001b[1;32m    827\u001b[0m       \u001b[0mnew_tracing_count\u001b[0m \u001b[0;34m=\u001b[0m \u001b[0mself\u001b[0m\u001b[0;34m.\u001b[0m\u001b[0mexperimental_get_tracing_count\u001b[0m\u001b[0;34m(\u001b[0m\u001b[0;34m)\u001b[0m\u001b[0;34m\u001b[0m\u001b[0;34m\u001b[0m\u001b[0m\n",
            "\u001b[0;32m/usr/local/lib/python3.10/dist-packages/tensorflow/python/eager/polymorphic_function/polymorphic_function.py\u001b[0m in \u001b[0;36m_call\u001b[0;34m(self, *args, **kwds)\u001b[0m\n\u001b[1;32m    862\u001b[0m       \u001b[0;31m# In this case we have not created variables on the first call. So we can\u001b[0m\u001b[0;34m\u001b[0m\u001b[0;34m\u001b[0m\u001b[0m\n\u001b[1;32m    863\u001b[0m       \u001b[0;31m# run the first trace but we should fail if variables are created.\u001b[0m\u001b[0;34m\u001b[0m\u001b[0;34m\u001b[0m\u001b[0m\n\u001b[0;32m--> 864\u001b[0;31m       \u001b[0mresults\u001b[0m \u001b[0;34m=\u001b[0m \u001b[0mself\u001b[0m\u001b[0;34m.\u001b[0m\u001b[0m_variable_creation_fn\u001b[0m\u001b[0;34m(\u001b[0m\u001b[0;34m*\u001b[0m\u001b[0margs\u001b[0m\u001b[0;34m,\u001b[0m \u001b[0;34m**\u001b[0m\u001b[0mkwds\u001b[0m\u001b[0;34m)\u001b[0m\u001b[0;34m\u001b[0m\u001b[0;34m\u001b[0m\u001b[0m\n\u001b[0m\u001b[1;32m    865\u001b[0m       \u001b[0;32mif\u001b[0m \u001b[0mself\u001b[0m\u001b[0;34m.\u001b[0m\u001b[0m_created_variables\u001b[0m \u001b[0;32mand\u001b[0m \u001b[0;32mnot\u001b[0m \u001b[0mALLOW_DYNAMIC_VARIABLE_CREATION\u001b[0m\u001b[0;34m:\u001b[0m\u001b[0;34m\u001b[0m\u001b[0;34m\u001b[0m\u001b[0m\n\u001b[1;32m    866\u001b[0m         raise ValueError(\"Creating variables on a non-first call to a function\"\n",
            "\u001b[0;32m/usr/local/lib/python3.10/dist-packages/tensorflow/python/eager/polymorphic_function/tracing_compiler.py\u001b[0m in \u001b[0;36m__call__\u001b[0;34m(self, *args, **kwargs)\u001b[0m\n\u001b[1;32m    146\u001b[0m       (concrete_function,\n\u001b[1;32m    147\u001b[0m        filtered_flat_args) = self._maybe_define_function(args, kwargs)\n\u001b[0;32m--> 148\u001b[0;31m     return concrete_function._call_flat(\n\u001b[0m\u001b[1;32m    149\u001b[0m         filtered_flat_args, captured_inputs=concrete_function.captured_inputs)  # pylint: disable=protected-access\n\u001b[1;32m    150\u001b[0m \u001b[0;34m\u001b[0m\u001b[0m\n",
            "\u001b[0;32m/usr/local/lib/python3.10/dist-packages/tensorflow/python/eager/polymorphic_function/monomorphic_function.py\u001b[0m in \u001b[0;36m_call_flat\u001b[0;34m(self, args, captured_inputs)\u001b[0m\n\u001b[1;32m   1347\u001b[0m         and executing_eagerly):\n\u001b[1;32m   1348\u001b[0m       \u001b[0;31m# No tape is watching; skip to running the function.\u001b[0m\u001b[0;34m\u001b[0m\u001b[0;34m\u001b[0m\u001b[0m\n\u001b[0;32m-> 1349\u001b[0;31m       \u001b[0;32mreturn\u001b[0m \u001b[0mself\u001b[0m\u001b[0;34m.\u001b[0m\u001b[0m_build_call_outputs\u001b[0m\u001b[0;34m(\u001b[0m\u001b[0mself\u001b[0m\u001b[0;34m.\u001b[0m\u001b[0m_inference_function\u001b[0m\u001b[0;34m(\u001b[0m\u001b[0;34m*\u001b[0m\u001b[0margs\u001b[0m\u001b[0;34m)\u001b[0m\u001b[0;34m)\u001b[0m\u001b[0;34m\u001b[0m\u001b[0;34m\u001b[0m\u001b[0m\n\u001b[0m\u001b[1;32m   1350\u001b[0m     forward_backward = self._select_forward_and_backward_functions(\n\u001b[1;32m   1351\u001b[0m         \u001b[0margs\u001b[0m\u001b[0;34m,\u001b[0m\u001b[0;34m\u001b[0m\u001b[0;34m\u001b[0m\u001b[0m\n",
            "\u001b[0;32m/usr/local/lib/python3.10/dist-packages/tensorflow/python/eager/polymorphic_function/atomic_function.py\u001b[0m in \u001b[0;36m__call__\u001b[0;34m(self, *args)\u001b[0m\n\u001b[1;32m    194\u001b[0m         \u001b[0;32mwith\u001b[0m \u001b[0mrecord\u001b[0m\u001b[0;34m.\u001b[0m\u001b[0mstop_recording\u001b[0m\u001b[0;34m(\u001b[0m\u001b[0;34m)\u001b[0m\u001b[0;34m:\u001b[0m\u001b[0;34m\u001b[0m\u001b[0;34m\u001b[0m\u001b[0m\n\u001b[1;32m    195\u001b[0m           \u001b[0;32mif\u001b[0m \u001b[0mself\u001b[0m\u001b[0;34m.\u001b[0m\u001b[0m_bound_context\u001b[0m\u001b[0;34m.\u001b[0m\u001b[0mexecuting_eagerly\u001b[0m\u001b[0;34m(\u001b[0m\u001b[0;34m)\u001b[0m\u001b[0;34m:\u001b[0m\u001b[0;34m\u001b[0m\u001b[0;34m\u001b[0m\u001b[0m\n\u001b[0;32m--> 196\u001b[0;31m             outputs = self._bound_context.call_function(\n\u001b[0m\u001b[1;32m    197\u001b[0m                 \u001b[0mself\u001b[0m\u001b[0;34m.\u001b[0m\u001b[0mname\u001b[0m\u001b[0;34m,\u001b[0m\u001b[0;34m\u001b[0m\u001b[0;34m\u001b[0m\u001b[0m\n\u001b[1;32m    198\u001b[0m                 \u001b[0mlist\u001b[0m\u001b[0;34m(\u001b[0m\u001b[0margs\u001b[0m\u001b[0;34m)\u001b[0m\u001b[0;34m,\u001b[0m\u001b[0;34m\u001b[0m\u001b[0;34m\u001b[0m\u001b[0m\n",
            "\u001b[0;32m/usr/local/lib/python3.10/dist-packages/tensorflow/python/eager/context.py\u001b[0m in \u001b[0;36mcall_function\u001b[0;34m(self, name, tensor_inputs, num_outputs)\u001b[0m\n\u001b[1;32m   1455\u001b[0m     \u001b[0mcancellation_context\u001b[0m \u001b[0;34m=\u001b[0m \u001b[0mcancellation\u001b[0m\u001b[0;34m.\u001b[0m\u001b[0mcontext\u001b[0m\u001b[0;34m(\u001b[0m\u001b[0;34m)\u001b[0m\u001b[0;34m\u001b[0m\u001b[0;34m\u001b[0m\u001b[0m\n\u001b[1;32m   1456\u001b[0m     \u001b[0;32mif\u001b[0m \u001b[0mcancellation_context\u001b[0m \u001b[0;32mis\u001b[0m \u001b[0;32mNone\u001b[0m\u001b[0;34m:\u001b[0m\u001b[0;34m\u001b[0m\u001b[0;34m\u001b[0m\u001b[0m\n\u001b[0;32m-> 1457\u001b[0;31m       outputs = execute.execute(\n\u001b[0m\u001b[1;32m   1458\u001b[0m           \u001b[0mname\u001b[0m\u001b[0;34m.\u001b[0m\u001b[0mdecode\u001b[0m\u001b[0;34m(\u001b[0m\u001b[0;34m\"utf-8\"\u001b[0m\u001b[0;34m)\u001b[0m\u001b[0;34m,\u001b[0m\u001b[0;34m\u001b[0m\u001b[0;34m\u001b[0m\u001b[0m\n\u001b[1;32m   1459\u001b[0m           \u001b[0mnum_outputs\u001b[0m\u001b[0;34m=\u001b[0m\u001b[0mnum_outputs\u001b[0m\u001b[0;34m,\u001b[0m\u001b[0;34m\u001b[0m\u001b[0;34m\u001b[0m\u001b[0m\n",
            "\u001b[0;32m/usr/local/lib/python3.10/dist-packages/tensorflow/python/eager/execute.py\u001b[0m in \u001b[0;36mquick_execute\u001b[0;34m(op_name, num_outputs, inputs, attrs, ctx, name)\u001b[0m\n\u001b[1;32m     51\u001b[0m   \u001b[0;32mtry\u001b[0m\u001b[0;34m:\u001b[0m\u001b[0;34m\u001b[0m\u001b[0;34m\u001b[0m\u001b[0m\n\u001b[1;32m     52\u001b[0m     \u001b[0mctx\u001b[0m\u001b[0;34m.\u001b[0m\u001b[0mensure_initialized\u001b[0m\u001b[0;34m(\u001b[0m\u001b[0;34m)\u001b[0m\u001b[0;34m\u001b[0m\u001b[0;34m\u001b[0m\u001b[0m\n\u001b[0;32m---> 53\u001b[0;31m     tensors = pywrap_tfe.TFE_Py_Execute(ctx._handle, device_name, op_name,\n\u001b[0m\u001b[1;32m     54\u001b[0m                                         inputs, attrs, num_outputs)\n\u001b[1;32m     55\u001b[0m   \u001b[0;32mexcept\u001b[0m \u001b[0mcore\u001b[0m\u001b[0;34m.\u001b[0m\u001b[0m_NotOkStatusException\u001b[0m \u001b[0;32mas\u001b[0m \u001b[0me\u001b[0m\u001b[0;34m:\u001b[0m\u001b[0;34m\u001b[0m\u001b[0;34m\u001b[0m\u001b[0m\n",
            "\u001b[0;31mKeyboardInterrupt\u001b[0m: "
          ]
        }
      ]
    },
    {
      "cell_type": "code",
      "source": [
        "import PIL.Image as pimg\n",
        "import cv2\n",
        "# 이미지 불러오기\n",
        "pre_img = cv2.imread(\"/content/image_me.jpg\",cv2.IMREAD_COLOR)\n",
        "# 이미지 색상 변경하기\n",
        "pre_img = cv2.cvtColor(pre_img, cv2.COLOR_BGR2RGB)\n",
        "# 이미지 크기 변경하기\n",
        "pre_img = cv2.resize(pre_img,(150,150))\n",
        "# 이미지 차원 변경하기\n",
        "pre_img = pre_img.reshape((1,150,150,3))"
      ],
      "metadata": {
        "colab": {
          "base_uri": "https://localhost:8080/",
          "height": 258
        },
        "id": "3IbjDxBw0bQv",
        "outputId": "45b66a04-8e61-4738-d72f-2e81341558ea"
      },
      "execution_count": null,
      "outputs": [
        {
          "output_type": "error",
          "ename": "error",
          "evalue": "ignored",
          "traceback": [
            "\u001b[0;31m---------------------------------------------------------------------------\u001b[0m",
            "\u001b[0;31merror\u001b[0m                                     Traceback (most recent call last)",
            "\u001b[0;32m<ipython-input-27-65d7a7cfdc71>\u001b[0m in \u001b[0;36m<cell line: 6>\u001b[0;34m()\u001b[0m\n\u001b[1;32m      4\u001b[0m \u001b[0mpre_img\u001b[0m \u001b[0;34m=\u001b[0m \u001b[0mcv2\u001b[0m\u001b[0;34m.\u001b[0m\u001b[0mimread\u001b[0m\u001b[0;34m(\u001b[0m\u001b[0;34m\"/content/image_me.jpg\"\u001b[0m\u001b[0;34m,\u001b[0m\u001b[0mcv2\u001b[0m\u001b[0;34m.\u001b[0m\u001b[0mIMREAD_COLOR\u001b[0m\u001b[0;34m)\u001b[0m\u001b[0;34m\u001b[0m\u001b[0;34m\u001b[0m\u001b[0m\n\u001b[1;32m      5\u001b[0m \u001b[0;31m# 이미지 색상 변경하기\u001b[0m\u001b[0;34m\u001b[0m\u001b[0;34m\u001b[0m\u001b[0m\n\u001b[0;32m----> 6\u001b[0;31m \u001b[0mpre_img\u001b[0m \u001b[0;34m=\u001b[0m \u001b[0mcv2\u001b[0m\u001b[0;34m.\u001b[0m\u001b[0mcvtColor\u001b[0m\u001b[0;34m(\u001b[0m\u001b[0mpre_img\u001b[0m\u001b[0;34m,\u001b[0m \u001b[0mcv2\u001b[0m\u001b[0;34m.\u001b[0m\u001b[0mCOLOR_BGR2RGB\u001b[0m\u001b[0;34m)\u001b[0m\u001b[0;34m\u001b[0m\u001b[0;34m\u001b[0m\u001b[0m\n\u001b[0m\u001b[1;32m      7\u001b[0m \u001b[0;31m# 이미지 크기 변경하기\u001b[0m\u001b[0;34m\u001b[0m\u001b[0;34m\u001b[0m\u001b[0m\n\u001b[1;32m      8\u001b[0m \u001b[0mpre_img\u001b[0m \u001b[0;34m=\u001b[0m \u001b[0mcv2\u001b[0m\u001b[0;34m.\u001b[0m\u001b[0mresize\u001b[0m\u001b[0;34m(\u001b[0m\u001b[0mpre_img\u001b[0m\u001b[0;34m,\u001b[0m\u001b[0;34m(\u001b[0m\u001b[0;36m150\u001b[0m\u001b[0;34m,\u001b[0m\u001b[0;36m150\u001b[0m\u001b[0;34m)\u001b[0m\u001b[0;34m)\u001b[0m\u001b[0;34m\u001b[0m\u001b[0;34m\u001b[0m\u001b[0m\n",
            "\u001b[0;31merror\u001b[0m: OpenCV(4.8.0) /io/opencv/modules/imgproc/src/color.cpp:182: error: (-215:Assertion failed) !_src.empty() in function 'cvtColor'\n"
          ]
        }
      ]
    },
    {
      "cell_type": "code",
      "source": [
        "# 0 = cat\n",
        "# 1 = dog\n",
        "# 대다수의 사람이 개라는 결과를 얻음\n",
        "# -> 모델이 학습이 덜 되어서 개의 규칙은 잘 찾았지만 고양이의 규칙은 잘 찾지 못했기 때문\n",
        "model1.predict(pre_img)"
      ],
      "metadata": {
        "id": "QbqLkkn20bTT",
        "colab": {
          "base_uri": "https://localhost:8080/",
          "height": 373
        },
        "outputId": "5fdabe56-858c-4847-f931-877132820056"
      },
      "execution_count": null,
      "outputs": [
        {
          "output_type": "error",
          "ename": "ValueError",
          "evalue": "ignored",
          "traceback": [
            "\u001b[0;31m---------------------------------------------------------------------------\u001b[0m",
            "\u001b[0;31mValueError\u001b[0m                                Traceback (most recent call last)",
            "\u001b[0;32m<ipython-input-28-7b7b202dbf9b>\u001b[0m in \u001b[0;36m<cell line: 5>\u001b[0;34m()\u001b[0m\n\u001b[1;32m      3\u001b[0m \u001b[0;31m# 대다수의 사람이 개라는 결과를 얻음\u001b[0m\u001b[0;34m\u001b[0m\u001b[0;34m\u001b[0m\u001b[0m\n\u001b[1;32m      4\u001b[0m \u001b[0;31m# -> 모델이 학습이 덜 되어서 개의 규칙은 잘 찾았지만 고양이의 규칙은 잘 찾지 못했기 때문\u001b[0m\u001b[0;34m\u001b[0m\u001b[0;34m\u001b[0m\u001b[0m\n\u001b[0;32m----> 5\u001b[0;31m \u001b[0mmodel1\u001b[0m\u001b[0;34m.\u001b[0m\u001b[0mpredict\u001b[0m\u001b[0;34m(\u001b[0m\u001b[0mpre_img\u001b[0m\u001b[0;34m)\u001b[0m\u001b[0;34m\u001b[0m\u001b[0;34m\u001b[0m\u001b[0m\n\u001b[0m",
            "\u001b[0;32m/usr/local/lib/python3.10/dist-packages/keras/src/utils/traceback_utils.py\u001b[0m in \u001b[0;36merror_handler\u001b[0;34m(*args, **kwargs)\u001b[0m\n\u001b[1;32m     68\u001b[0m             \u001b[0;31m# To get the full stack trace, call:\u001b[0m\u001b[0;34m\u001b[0m\u001b[0;34m\u001b[0m\u001b[0m\n\u001b[1;32m     69\u001b[0m             \u001b[0;31m# `tf.debugging.disable_traceback_filtering()`\u001b[0m\u001b[0;34m\u001b[0m\u001b[0;34m\u001b[0m\u001b[0m\n\u001b[0;32m---> 70\u001b[0;31m             \u001b[0;32mraise\u001b[0m \u001b[0me\u001b[0m\u001b[0;34m.\u001b[0m\u001b[0mwith_traceback\u001b[0m\u001b[0;34m(\u001b[0m\u001b[0mfiltered_tb\u001b[0m\u001b[0;34m)\u001b[0m \u001b[0;32mfrom\u001b[0m \u001b[0;32mNone\u001b[0m\u001b[0;34m\u001b[0m\u001b[0;34m\u001b[0m\u001b[0m\n\u001b[0m\u001b[1;32m     71\u001b[0m         \u001b[0;32mfinally\u001b[0m\u001b[0;34m:\u001b[0m\u001b[0;34m\u001b[0m\u001b[0;34m\u001b[0m\u001b[0m\n\u001b[1;32m     72\u001b[0m             \u001b[0;32mdel\u001b[0m \u001b[0mfiltered_tb\u001b[0m\u001b[0;34m\u001b[0m\u001b[0;34m\u001b[0m\u001b[0m\n",
            "\u001b[0;32m/usr/local/lib/python3.10/dist-packages/keras/src/engine/data_adapter.py\u001b[0m in \u001b[0;36mselect_data_adapter\u001b[0;34m(x, y)\u001b[0m\n\u001b[1;32m   1103\u001b[0m     \u001b[0;32mif\u001b[0m \u001b[0;32mnot\u001b[0m \u001b[0madapter_cls\u001b[0m\u001b[0;34m:\u001b[0m\u001b[0;34m\u001b[0m\u001b[0;34m\u001b[0m\u001b[0m\n\u001b[1;32m   1104\u001b[0m         \u001b[0;31m# TODO(scottzhu): This should be a less implementation-specific error.\u001b[0m\u001b[0;34m\u001b[0m\u001b[0;34m\u001b[0m\u001b[0m\n\u001b[0;32m-> 1105\u001b[0;31m         raise ValueError(\n\u001b[0m\u001b[1;32m   1106\u001b[0m             \"Failed to find data adapter that can handle input: {}, {}\".format(\n\u001b[1;32m   1107\u001b[0m                 \u001b[0m_type_name\u001b[0m\u001b[0;34m(\u001b[0m\u001b[0mx\u001b[0m\u001b[0;34m)\u001b[0m\u001b[0;34m,\u001b[0m \u001b[0m_type_name\u001b[0m\u001b[0;34m(\u001b[0m\u001b[0my\u001b[0m\u001b[0;34m)\u001b[0m\u001b[0;34m\u001b[0m\u001b[0;34m\u001b[0m\u001b[0m\n",
            "\u001b[0;31mValueError\u001b[0m: Failed to find data adapter that can handle input: <class 'NoneType'>, <class 'NoneType'>"
          ]
        }
      ]
    },
    {
      "cell_type": "code",
      "source": [
        "# 부동 소수점 : 소수점의 위치가 변하지 않는\n",
        "# 1.7243704e-35 = 1.7243704 * 10^(-35) <- 0이다!!!!!!!!!!"
      ],
      "metadata": {
        "id": "hriYc28X0bWH"
      },
      "execution_count": null,
      "outputs": []
    },
    {
      "cell_type": "code",
      "source": [
        "# train accuracy : 0.98\n",
        "# val accuracy : 0.7\n",
        "# train은 학습이 잘 됐고, val은 학습이 안 됐다. -> 과대적합에 걸렸다\n",
        "# 과대적합을 해소하는 방법\n",
        "# 1. 데이터의 양을 늘린다(추가적으로 데이터를 수집) -> 많이 어려움\n",
        "# 2. 모델을 더 깊게 구성한다. (층을 더 많이 쌓는다.)\n",
        "# 3. 데이터를 확장한다.(가지고 있는 데이터를 다양하게 표현)"
      ],
      "metadata": {
        "id": "BtWubbMf0bZM"
      },
      "execution_count": null,
      "outputs": []
    },
    {
      "cell_type": "code",
      "source": [
        "# 데이터 확장을 하고 새롭게 학습한다\n",
        "# 데이터를 확장하면 원본 데이터는 사라진다\n",
        "# 모델 설계 -> 확장 안 된 이미지로 학습 -> 결과 확인 -> 만족스럽지 않다 -> 데이터 확장 후 학습"
      ],
      "metadata": {
        "id": "itOZNCEm0bd9"
      },
      "execution_count": null,
      "outputs": []
    },
    {
      "cell_type": "code",
      "source": [
        "# 기존 모델에 확장 데이터로 학습하기\n",
        "aug_generator = ImageDataGenerator(\n",
        "    rescale = 1./255, # 픽셀값 조정\n",
        "    rotation_range = 20, # 회전 범위\n",
        "    width_shift_range = 0.1, # 수평 이동\n",
        "    height_shift_range = 0.1, # 수직 이동\n",
        "    shear_range = 0.1, # 반시계 방향 회전\n",
        "    zoom_range = 0.1, # 확대/축소 비율\n",
        "    horizontal_flip = True, # 수평 뒤집기\n",
        "    fill_mode = 'nearest' # 가까운 값으로 비어있는 곳을 채운다\n",
        ")"
      ],
      "metadata": {
        "id": "WbdRRQZy0bgq"
      },
      "execution_count": null,
      "outputs": []
    },
    {
      "cell_type": "code",
      "source": [
        "train_aug_generator = aug_generator.flow_from_directory(\n",
        "    train_dir,\n",
        "    target_size = (150,150),\n",
        "    batch_size = 100,\n",
        "    class_mode = 'binary'\n",
        ")"
      ],
      "metadata": {
        "id": "cc7ih7_o0bjc"
      },
      "execution_count": null,
      "outputs": []
    },
    {
      "cell_type": "code",
      "source": [
        "model1.fit(\n",
        "    train_aug_generator,\n",
        "    epochs = 20,\n",
        "    validation_data = valid_generator\n",
        ")"
      ],
      "metadata": {
        "id": "GWjc_B0I0bm1"
      },
      "execution_count": null,
      "outputs": []
    },
    {
      "cell_type": "markdown",
      "source": [
        "# 과대적합을 줄이는 방법들\n",
        "- 증식\n",
        "  - 장점 : 간단\n",
        "  - 단점 : 가짜는 가짜다 (급격한 성능 향상은 없다)\n",
        "  - epoch 수는 증가시켜주어야 한다.\n",
        "- Dropout()\n",
        "  - 층에 사용하는 퍼셉트론의 수를 설정한 비율만큼 사용하지 않는 방법\n",
        "  - epoch마다 사용하지 않는 퍼셉트론은 랜덤\n",
        "- BatchNormalization()\n",
        "  - CNN층 = Conv(특성 추출) + Maxpooling(크기 축소)\n",
        "  - Conv층의 파라미터를 정규화 (평균 0, 분산 1)         \n",
        "    -> 음수가 발생                                     \n",
        "    -> relu 를 적용하면                                           \n",
        "    -> 음수가 사라지는 문제                              \n",
        "    -> leaky relu\n",
        "- GlobalAveragePooling2D()\n",
        "  - CNN에서 가장 문제가 되는 층 : Maxpooling층         \n",
        "    -> CNN 속도의 60% 이상을 차지\n",
        "  - Maxpooling2D + Flatten()\n",
        "  - Dense 층과 연결되는 층에 사용\n",
        "  "
      ],
      "metadata": {
        "id": "8UsRFHad0bpc"
      }
    },
    {
      "cell_type": "markdown",
      "source": [
        "- Data Generator : 학습을 시킬 때 한 번에 전체 데이터를 가져오는 것이 아니라 batch_size만큼씩만 가져와서 처리하도록 하는 것 (메모리 자원 부족을 해결)"
      ],
      "metadata": {
        "id": "_HOE_u8GMTzb"
      }
    },
    {
      "cell_type": "code",
      "source": [
        "from tensorflow.keras.preprocessing.image import ImageDataGenerator\n",
        "\n",
        "generator = ImageDataGenerator(rescale = 1./255)\n",
        "\n",
        "train_generator = generator.flow_from_directory(\n",
        "    directory = train_dir, # train 이미지 경로, 변환할 이미지\n",
        "    target_size = (150,150), # 변환할 이미지의 크기\n",
        "    batch_size = 100, # 한 번에 변환할 이미지 개수\n",
        "    class_mode = 'binary' # 라벨링 방법, 다중분류 : categorical\n",
        ")\n",
        "\n",
        "valid_generator = generator.flow_from_directory(\n",
        "    directory = valid_dir, # train 이미지 경로, 변환할 이미지\n",
        "    target_size = (150,150), # 변환할 이미지의 크기\n",
        "    batch_size = 100, # 한 번에 변환할 이미지 개수\n",
        "    class_mode = 'binary' # 라벨링 방법, 다중분류 : categorical\n",
        ")"
      ],
      "metadata": {
        "colab": {
          "base_uri": "https://localhost:8080/"
        },
        "id": "Ln8yAQAoMT_j",
        "outputId": "39c44250-4391-4786-dd7f-e820f79afaab"
      },
      "execution_count": null,
      "outputs": [
        {
          "output_type": "stream",
          "name": "stdout",
          "text": [
            "Found 2000 images belonging to 2 classes.\n",
            "Found 1000 images belonging to 2 classes.\n"
          ]
        }
      ]
    },
    {
      "cell_type": "code",
      "source": [
        "# label(라벨)은 알파벳 순으로 0부터 부여\n",
        "train_generator.class_indices, valid_generator.class_indices"
      ],
      "metadata": {
        "colab": {
          "base_uri": "https://localhost:8080/"
        },
        "id": "DZs4zoTIMUZt",
        "outputId": "45c4988e-faf6-4f7e-f38c-ad29a1622e1d"
      },
      "execution_count": null,
      "outputs": [
        {
          "output_type": "execute_result",
          "data": {
            "text/plain": [
              "({'cats': 0, 'dogs': 1}, {'cats': 0, 'dogs': 1})"
            ]
          },
          "metadata": {},
          "execution_count": 30
        }
      ]
    },
    {
      "cell_type": "markdown",
      "source": [
        "- 신경망 설계\n"
      ],
      "metadata": {
        "id": "bGc1cg6FMVZJ"
      }
    },
    {
      "cell_type": "code",
      "source": [
        "from tensorflow.keras import Sequential\n",
        "from tensorflow.keras.layers import Dense, Conv2D, MaxPool2D,  Flatten\n",
        "from tensorflow.keras.layers import Dropout, BatchNormalization, GlobalAveragePooling2D\n",
        "\n",
        "# 딥러닝 모델 생성\n",
        "# 건물 토대 설계\n",
        "model1 = Sequential()\n",
        "\n",
        "# 입력층\n",
        "model1.add(Conv2D(  # 특징 찾기\n",
        "     filters = 32, # 찾을 특징의 개수\n",
        "     kernel_size = (3,3), # 특징의 크기\n",
        "     input_shape = (150,150,3), # 입력 데이터의 모양 (3 = RGB(Red, Green, Blue))  # 0 : 검은색, 255 : 흰색\n",
        "     activation = 'relu'\n",
        "))\n",
        "\n",
        "model1.add(MaxPool2D( # 특징이 아닌 부분 삭제하기\n",
        "    pool_size = (2,2) # 기준 크기에서 한 개의 특징만 가져오기 / 4개 중 1개 사용하기\n",
        "))\n",
        "\n",
        "model1.add(Conv2D(  # 특징 찾기\n",
        "     filters = 32, # 찾을 특징의 개수\n",
        "     kernel_size = (3,3), # 특징의 크기\n",
        "     activation = 'relu'\n",
        "))\n",
        "\n",
        "model1.add(MaxPool2D( # 특징이 아닌 부분 삭제하기\n",
        "    pool_size = (2,2) # 기준 크기에서 한 개의 특징만 가져오기 / 4개 중 1개 사용하기\n",
        "))\n",
        "\n",
        "####################### 특징 추출부 끝 #######################\n",
        "model1.add(Flatten())\n",
        "####################### 분류 분석 시작 #######################\n",
        "model1.add(Dropout(0.5))\n",
        "model1.add(Dense(units = 64, activation = 'relu'))\n",
        "model1.add(Dense(units = 128, activation = 'relu'))\n",
        "model1.add(Dense(units = 64, activation = 'relu'))\n",
        "model1.add(Dense(units = 32, activation = 'relu'))\n",
        "\n",
        "# 출력층\n",
        "model1.add(Dense(units = 1, activation = 'sigmoid'))\n",
        "\n",
        "model1.summary()"
      ],
      "metadata": {
        "colab": {
          "base_uri": "https://localhost:8080/"
        },
        "id": "mlbjwGDvMVXC",
        "outputId": "29c1a0be-76ad-4183-fcfc-1aaedfa032f4"
      },
      "execution_count": null,
      "outputs": [
        {
          "output_type": "stream",
          "name": "stdout",
          "text": [
            "Model: \"sequential_2\"\n",
            "_________________________________________________________________\n",
            " Layer (type)                Output Shape              Param #   \n",
            "=================================================================\n",
            " conv2d_4 (Conv2D)           (None, 148, 148, 32)      896       \n",
            "                                                                 \n",
            " max_pooling2d_4 (MaxPoolin  (None, 74, 74, 32)        0         \n",
            " g2D)                                                            \n",
            "                                                                 \n",
            " conv2d_5 (Conv2D)           (None, 72, 72, 32)        9248      \n",
            "                                                                 \n",
            " max_pooling2d_5 (MaxPoolin  (None, 36, 36, 32)        0         \n",
            " g2D)                                                            \n",
            "                                                                 \n",
            " flatten_2 (Flatten)         (None, 41472)             0         \n",
            "                                                                 \n",
            " dropout (Dropout)           (None, 41472)             0         \n",
            "                                                                 \n",
            " dense_10 (Dense)            (None, 64)                2654272   \n",
            "                                                                 \n",
            " dense_11 (Dense)            (None, 128)               8320      \n",
            "                                                                 \n",
            " dense_12 (Dense)            (None, 64)                8256      \n",
            "                                                                 \n",
            " dense_13 (Dense)            (None, 32)                2080      \n",
            "                                                                 \n",
            " dense_14 (Dense)            (None, 1)                 33        \n",
            "                                                                 \n",
            "=================================================================\n",
            "Total params: 2683105 (10.24 MB)\n",
            "Trainable params: 2683105 (10.24 MB)\n",
            "Non-trainable params: 0 (0.00 Byte)\n",
            "_________________________________________________________________\n"
          ]
        }
      ]
    },
    {
      "cell_type": "code",
      "source": [
        "# 학습 방법 설정\n",
        "model1.compile(\n",
        "    loss = 'binary_crossentropy',\n",
        "    optimizer = 'Adam',\n",
        "    metrics = ['accuracy']\n",
        ")\n",
        "\n",
        "model1.fit(\n",
        "    train_generator, #학습 데이터(X_train, y_train이 합쳐져 있다.)\n",
        "    epochs = 20,\n",
        "    validation_data = valid_generator\n",
        ")"
      ],
      "metadata": {
        "colab": {
          "base_uri": "https://localhost:8080/"
        },
        "id": "81RqPhnaMVU5",
        "outputId": "581edc47-74f1-4019-fc93-44b4bf0613cd"
      },
      "execution_count": null,
      "outputs": [
        {
          "output_type": "stream",
          "name": "stdout",
          "text": [
            "Epoch 1/20\n",
            "20/20 [==============================] - 12s 478ms/step - loss: 0.6958 - accuracy: 0.5250 - val_loss: 0.6816 - val_accuracy: 0.5200\n",
            "Epoch 2/20\n",
            "20/20 [==============================] - 11s 583ms/step - loss: 0.6601 - accuracy: 0.5765 - val_loss: 0.6499 - val_accuracy: 0.6030\n",
            "Epoch 3/20\n",
            "20/20 [==============================] - 9s 458ms/step - loss: 0.6300 - accuracy: 0.6440 - val_loss: 0.6259 - val_accuracy: 0.6390\n",
            "Epoch 4/20\n",
            "20/20 [==============================] - 9s 443ms/step - loss: 0.5546 - accuracy: 0.7275 - val_loss: 0.6686 - val_accuracy: 0.6240\n",
            "Epoch 5/20\n",
            "20/20 [==============================] - 9s 476ms/step - loss: 0.4724 - accuracy: 0.7745 - val_loss: 0.6377 - val_accuracy: 0.6930\n",
            "Epoch 6/20\n",
            "20/20 [==============================] - 9s 475ms/step - loss: 0.3921 - accuracy: 0.8235 - val_loss: 0.6238 - val_accuracy: 0.7110\n",
            "Epoch 7/20\n",
            "20/20 [==============================] - 9s 451ms/step - loss: 0.3103 - accuracy: 0.8730 - val_loss: 0.7128 - val_accuracy: 0.6880\n",
            "Epoch 8/20\n",
            "20/20 [==============================] - 11s 566ms/step - loss: 0.2635 - accuracy: 0.8875 - val_loss: 0.7601 - val_accuracy: 0.7080\n",
            "Epoch 9/20\n",
            "20/20 [==============================] - 10s 488ms/step - loss: 0.2388 - accuracy: 0.8995 - val_loss: 0.8302 - val_accuracy: 0.6660\n",
            "Epoch 10/20\n",
            "20/20 [==============================] - 9s 472ms/step - loss: 0.2096 - accuracy: 0.9065 - val_loss: 0.8378 - val_accuracy: 0.7000\n",
            "Epoch 11/20\n",
            "20/20 [==============================] - 9s 471ms/step - loss: 0.1496 - accuracy: 0.9415 - val_loss: 1.0269 - val_accuracy: 0.7120\n",
            "Epoch 12/20\n",
            "20/20 [==============================] - 11s 560ms/step - loss: 0.1083 - accuracy: 0.9550 - val_loss: 1.0321 - val_accuracy: 0.6900\n",
            "Epoch 13/20\n",
            "20/20 [==============================] - 9s 477ms/step - loss: 0.0942 - accuracy: 0.9640 - val_loss: 1.1158 - val_accuracy: 0.7160\n",
            "Epoch 14/20\n",
            "20/20 [==============================] - 9s 459ms/step - loss: 0.0996 - accuracy: 0.9675 - val_loss: 1.0308 - val_accuracy: 0.7080\n",
            "Epoch 15/20\n",
            "20/20 [==============================] - 9s 472ms/step - loss: 0.1049 - accuracy: 0.9615 - val_loss: 1.1102 - val_accuracy: 0.7150\n",
            "Epoch 16/20\n",
            "20/20 [==============================] - 11s 559ms/step - loss: 0.0804 - accuracy: 0.9725 - val_loss: 1.4010 - val_accuracy: 0.6990\n",
            "Epoch 17/20\n",
            "20/20 [==============================] - 9s 456ms/step - loss: 0.0640 - accuracy: 0.9770 - val_loss: 1.3628 - val_accuracy: 0.6720\n",
            "Epoch 18/20\n",
            "20/20 [==============================] - 9s 468ms/step - loss: 0.0946 - accuracy: 0.9630 - val_loss: 1.0140 - val_accuracy: 0.7130\n",
            "Epoch 19/20\n",
            "20/20 [==============================] - 9s 473ms/step - loss: 0.0785 - accuracy: 0.9725 - val_loss: 1.1523 - val_accuracy: 0.7110\n",
            "Epoch 20/20\n",
            "20/20 [==============================] - 9s 443ms/step - loss: 0.0493 - accuracy: 0.9825 - val_loss: 1.2676 - val_accuracy: 0.7270\n"
          ]
        },
        {
          "output_type": "execute_result",
          "data": {
            "text/plain": [
              "<keras.src.callbacks.History at 0x7defe4b70040>"
            ]
          },
          "metadata": {},
          "execution_count": 32
        }
      ]
    },
    {
      "cell_type": "markdown",
      "source": [
        "# GlobalAverage2D"
      ],
      "metadata": {
        "id": "-oiFIaDjMVSu"
      }
    },
    {
      "cell_type": "code",
      "source": [
        "from tensorflow.keras import Sequential\n",
        "from tensorflow.keras.layers import Dense, Conv2D, MaxPool2D,  Flatten\n",
        "from tensorflow.keras.layers import Dropout, BatchNormalization, GlobalAveragePooling2D\n",
        "\n",
        "# 딥러닝 모델 생성\n",
        "# 건물 토대 설계\n",
        "model1 = Sequential()\n",
        "\n",
        "# 입력층\n",
        "model1.add(Conv2D(  # 특징 찾기\n",
        "     filters = 32, # 찾을 특징의 개수\n",
        "     kernel_size = (3,3), # 특징의 크기\n",
        "     input_shape = (150,150,3), # 입력 데이터의 모양 (3 = RGB(Red, Green, Blue))  # 0 : 검은색, 255 : 흰색\n",
        "     activation = 'relu'\n",
        "))\n",
        "\n",
        "model1.add(MaxPool2D( # 특징이 아닌 부분 삭제하기\n",
        "    pool_size = (2,2) # 기준 크기에서 한 개의 특징만 가져오기 / 4개 중 1개 사용하기\n",
        "))\n",
        "\n",
        "model1.add(Conv2D(  # 특징 찾기\n",
        "     filters = 32, # 찾을 특징의 개수\n",
        "     kernel_size = (3,3), # 특징의 크기\n",
        "     activation = 'relu'\n",
        "))\n",
        "\n",
        "# model1.add(MaxPool2D( # 특징이 아닌 부분 삭제하기\n",
        "#     pool_size = (2,2) # 기준 크기에서 한 개의 특징만 가져오기 / 4개 중 1개 사용하기\n",
        "# ))\n",
        "\n",
        "# ####################### 특징 추출부 끝 #######################\n",
        "# model1.add(Flatten())\n",
        "model1.add(GlobalAveragePooling2D())\n",
        "####################### 분류 분석 시작 #######################\n",
        "model1.add(Dropout(0.5))\n",
        "model1.add(Dense(units = 64, activation = 'relu'))\n",
        "model1.add(Dense(units = 128, activation = 'relu'))\n",
        "model1.add(Dense(units = 64, activation = 'relu'))\n",
        "model1.add(Dense(units = 32, activation = 'relu'))\n",
        "\n",
        "# 출력층\n",
        "model1.add(Dense(units = 1, activation = 'sigmoid'))\n",
        "\n",
        "model1.summary()"
      ],
      "metadata": {
        "id": "BezfLfaRMVPr",
        "colab": {
          "base_uri": "https://localhost:8080/"
        },
        "outputId": "4e3eef71-90c4-45ff-fe2e-cdb6fbfb8404"
      },
      "execution_count": null,
      "outputs": [
        {
          "output_type": "stream",
          "name": "stdout",
          "text": [
            "Model: \"sequential_4\"\n",
            "_________________________________________________________________\n",
            " Layer (type)                Output Shape              Param #   \n",
            "=================================================================\n",
            " conv2d_8 (Conv2D)           (None, 148, 148, 32)      896       \n",
            "                                                                 \n",
            " max_pooling2d_7 (MaxPoolin  (None, 74, 74, 32)        0         \n",
            " g2D)                                                            \n",
            "                                                                 \n",
            " conv2d_9 (Conv2D)           (None, 72, 72, 32)        9248      \n",
            "                                                                 \n",
            " global_average_pooling2d (  (None, 32)                0         \n",
            " GlobalAveragePooling2D)                                         \n",
            "                                                                 \n",
            " dropout_1 (Dropout)         (None, 32)                0         \n",
            "                                                                 \n",
            " dense_15 (Dense)            (None, 64)                2112      \n",
            "                                                                 \n",
            " dense_16 (Dense)            (None, 128)               8320      \n",
            "                                                                 \n",
            " dense_17 (Dense)            (None, 64)                8256      \n",
            "                                                                 \n",
            " dense_18 (Dense)            (None, 32)                2080      \n",
            "                                                                 \n",
            " dense_19 (Dense)            (None, 1)                 33        \n",
            "                                                                 \n",
            "=================================================================\n",
            "Total params: 30945 (120.88 KB)\n",
            "Trainable params: 30945 (120.88 KB)\n",
            "Non-trainable params: 0 (0.00 Byte)\n",
            "_________________________________________________________________\n"
          ]
        }
      ]
    },
    {
      "cell_type": "code",
      "source": [
        "# 학습 방법 설정\n",
        "model1.compile(\n",
        "    loss = 'binary_crossentropy',\n",
        "    optimizer = 'Adam',\n",
        "    metrics = ['accuracy']\n",
        ")"
      ],
      "metadata": {
        "id": "OCIF3DYLMVMY"
      },
      "execution_count": null,
      "outputs": []
    },
    {
      "cell_type": "code",
      "source": [
        "model1.fit(\n",
        "    train_generator, #학습 데이터(X_train, y_train이 합쳐져 있다.)\n",
        "    epochs = 20,\n",
        "    validation_data = valid_generator\n",
        ")"
      ],
      "metadata": {
        "id": "P-dmWMJhMVKD",
        "colab": {
          "base_uri": "https://localhost:8080/"
        },
        "outputId": "8f93f0bc-df3d-4abc-f183-34921db61b15"
      },
      "execution_count": null,
      "outputs": [
        {
          "output_type": "stream",
          "name": "stdout",
          "text": [
            "Epoch 1/20\n",
            "20/20 [==============================] - 12s 473ms/step - loss: 0.6929 - accuracy: 0.5100 - val_loss: 0.6930 - val_accuracy: 0.5000\n",
            "Epoch 2/20\n",
            "20/20 [==============================] - 9s 478ms/step - loss: 0.6934 - accuracy: 0.4915 - val_loss: 0.6925 - val_accuracy: 0.5130\n",
            "Epoch 3/20\n",
            "20/20 [==============================] - 9s 463ms/step - loss: 0.6925 - accuracy: 0.4955 - val_loss: 0.6912 - val_accuracy: 0.5350\n",
            "Epoch 4/20\n",
            "20/20 [==============================] - 9s 445ms/step - loss: 0.6914 - accuracy: 0.5105 - val_loss: 0.6886 - val_accuracy: 0.5900\n",
            "Epoch 5/20\n",
            "20/20 [==============================] - 9s 468ms/step - loss: 0.6859 - accuracy: 0.5230 - val_loss: 0.6817 - val_accuracy: 0.5150\n",
            "Epoch 6/20\n",
            "20/20 [==============================] - 9s 476ms/step - loss: 0.6898 - accuracy: 0.5255 - val_loss: 0.6824 - val_accuracy: 0.5670\n",
            "Epoch 7/20\n",
            "20/20 [==============================] - 11s 563ms/step - loss: 0.6778 - accuracy: 0.5600 - val_loss: 0.6701 - val_accuracy: 0.5810\n",
            "Epoch 8/20\n",
            "20/20 [==============================] - 11s 562ms/step - loss: 0.6741 - accuracy: 0.5525 - val_loss: 0.6657 - val_accuracy: 0.5750\n",
            "Epoch 9/20\n",
            "20/20 [==============================] - 9s 438ms/step - loss: 0.6653 - accuracy: 0.5750 - val_loss: 0.6683 - val_accuracy: 0.5700\n",
            "Epoch 10/20\n",
            "20/20 [==============================] - 10s 487ms/step - loss: 0.6643 - accuracy: 0.5910 - val_loss: 0.6520 - val_accuracy: 0.5940\n",
            "Epoch 11/20\n",
            "20/20 [==============================] - 10s 517ms/step - loss: 0.6597 - accuracy: 0.5925 - val_loss: 0.6511 - val_accuracy: 0.5950\n",
            "Epoch 12/20\n",
            "20/20 [==============================] - 9s 436ms/step - loss: 0.6660 - accuracy: 0.5765 - val_loss: 0.6526 - val_accuracy: 0.6060\n",
            "Epoch 13/20\n",
            "20/20 [==============================] - 9s 465ms/step - loss: 0.6537 - accuracy: 0.6070 - val_loss: 0.6550 - val_accuracy: 0.5890\n",
            "Epoch 14/20\n",
            "20/20 [==============================] - 10s 485ms/step - loss: 0.6594 - accuracy: 0.6000 - val_loss: 0.6468 - val_accuracy: 0.6150\n",
            "Epoch 15/20\n",
            "20/20 [==============================] - 11s 561ms/step - loss: 0.6530 - accuracy: 0.5990 - val_loss: 0.6508 - val_accuracy: 0.5980\n",
            "Epoch 16/20\n",
            "20/20 [==============================] - 9s 440ms/step - loss: 0.6509 - accuracy: 0.6070 - val_loss: 0.6443 - val_accuracy: 0.6230\n",
            "Epoch 17/20\n",
            "20/20 [==============================] - 9s 459ms/step - loss: 0.6528 - accuracy: 0.5985 - val_loss: 0.6500 - val_accuracy: 0.5970\n",
            "Epoch 18/20\n",
            "20/20 [==============================] - 10s 492ms/step - loss: 0.6574 - accuracy: 0.5895 - val_loss: 0.6523 - val_accuracy: 0.5830\n",
            "Epoch 19/20\n",
            "20/20 [==============================] - 9s 474ms/step - loss: 0.6551 - accuracy: 0.5935 - val_loss: 0.6462 - val_accuracy: 0.6090\n",
            "Epoch 20/20\n",
            "20/20 [==============================] - 11s 573ms/step - loss: 0.6580 - accuracy: 0.5955 - val_loss: 0.6502 - val_accuracy: 0.6020\n"
          ]
        },
        {
          "output_type": "execute_result",
          "data": {
            "text/plain": [
              "<keras.src.callbacks.History at 0x7deff5ba2950>"
            ]
          },
          "metadata": {},
          "execution_count": 36
        }
      ]
    },
    {
      "cell_type": "markdown",
      "source": [
        "- BatchNormalization()\n",
        "  - Conv2D()와 activation() 층 사이에 배치\n",
        "  - Activaition()이 정규화 기능을 일부 수행 ->\n",
        "Activaition() 다음에 배치하면 효과가 떨어짐\n",
        "-> C+B+A+M => C+ A + B+ M\n",
        "\n",
        "- 확실하게 성능이 향상됨\n",
        "- 단점 :참 좋은데 설명할 길이 없네"
      ],
      "metadata": {
        "id": "hFvgZZdXMVHx"
      }
    },
    {
      "cell_type": "code",
      "source": [
        "from tensorflow.keras import Sequential\n",
        "from tensorflow.keras.layers import Dense, Conv2D, MaxPool2D, Flatten\n",
        "from tensorflow.keras.layers import Dropout, BatchNormalization, GlobalAveragePooling2D\n",
        "from tensorflow.keras.layers import Activation\n",
        "\n",
        "model1 = Sequential()\n",
        "\n",
        "model1.add(Conv2D(filters = 32, kernel_size = (3,3),\n",
        "    input_shape = (150,150,3)))\n",
        "model1.add(BatchNormalization())\n",
        "model1.add(Activation(\"leaky_relu\"))\n",
        "model1.add(MaxPool2D(pool_size = (2,2)))\n",
        "\n",
        "model1.add(Conv2D(filters = 32, kernel_size = (3,3),\n",
        "    activation = 'leaky_relu'))\n",
        "model1.add(BatchNormalization())\n",
        "model1.add(MaxPool2D(pool_size = (2,2)))\n",
        "\n",
        "model1.add(Conv2D(filters = 32, kernel_size = (3,3),\n",
        "    activation = 'leaky_relu'))\n",
        "model1.add(BatchNormalization())\n",
        "model1.add(MaxPool2D(pool_size = (2,2)))\n",
        "\n",
        "model1.add(Conv2D(filters = 128, kernel_size = (3,3),\n",
        "    activation = 'leaky_relu'))\n",
        "model1.add(BatchNormalization())\n",
        "model1.add(MaxPool2D(pool_size = (2,2)))\n",
        "\n",
        "model1.add(Conv2D(filters = 64, kernel_size = (3,3),\n",
        "    activation = 'leaky_relu'))\n",
        "model1.add(BatchNormalization())\n",
        "#model1.add(MaxPool2D( pool_size = (2,2)))\n",
        "\n",
        "#model1.add(Flatten())\n",
        "\n",
        "model1.add(GlobalAveragePooling2D())\n",
        "\n",
        "model1.add(Dropout(0.5))\n",
        "model1.add(Dense(units = 64, activation = 'relu'))\n",
        "model1.add(Dense(units = 128, activation = 'relu'))\n",
        "model1.add(Dense(units = 64, activation = 'relu'))\n",
        "model1.add(Dense(units = 32, activation = 'relu'))\n",
        "\n",
        "model1.add(Dense(units = 1, activation = 'sigmoid'))\n",
        "\n",
        "model1.summary()"
      ],
      "metadata": {
        "id": "rdsa16tkMVFQ",
        "colab": {
          "base_uri": "https://localhost:8080/"
        },
        "outputId": "46dfb467-f8d7-4871-eb72-e57fcc76773f"
      },
      "execution_count": null,
      "outputs": [
        {
          "output_type": "stream",
          "name": "stdout",
          "text": [
            "Model: \"sequential_6\"\n",
            "_________________________________________________________________\n",
            " Layer (type)                Output Shape              Param #   \n",
            "=================================================================\n",
            " conv2d_15 (Conv2D)          (None, 148, 148, 32)      896       \n",
            "                                                                 \n",
            " batch_normalization_5 (Bat  (None, 148, 148, 32)      128       \n",
            " chNormalization)                                                \n",
            "                                                                 \n",
            " activation_1 (Activation)   (None, 148, 148, 32)      0         \n",
            "                                                                 \n",
            " max_pooling2d_12 (MaxPooli  (None, 74, 74, 32)        0         \n",
            " ng2D)                                                           \n",
            "                                                                 \n",
            " conv2d_16 (Conv2D)          (None, 72, 72, 32)        9248      \n",
            "                                                                 \n",
            " batch_normalization_6 (Bat  (None, 72, 72, 32)        128       \n",
            " chNormalization)                                                \n",
            "                                                                 \n",
            " max_pooling2d_13 (MaxPooli  (None, 36, 36, 32)        0         \n",
            " ng2D)                                                           \n",
            "                                                                 \n",
            " conv2d_17 (Conv2D)          (None, 34, 34, 32)        9248      \n",
            "                                                                 \n",
            " batch_normalization_7 (Bat  (None, 34, 34, 32)        128       \n",
            " chNormalization)                                                \n",
            "                                                                 \n",
            " max_pooling2d_14 (MaxPooli  (None, 17, 17, 32)        0         \n",
            " ng2D)                                                           \n",
            "                                                                 \n",
            " conv2d_18 (Conv2D)          (None, 15, 15, 128)       36992     \n",
            "                                                                 \n",
            " batch_normalization_8 (Bat  (None, 15, 15, 128)       512       \n",
            " chNormalization)                                                \n",
            "                                                                 \n",
            " max_pooling2d_15 (MaxPooli  (None, 7, 7, 128)         0         \n",
            " ng2D)                                                           \n",
            "                                                                 \n",
            " conv2d_19 (Conv2D)          (None, 5, 5, 64)          73792     \n",
            "                                                                 \n",
            " batch_normalization_9 (Bat  (None, 5, 5, 64)          256       \n",
            " chNormalization)                                                \n",
            "                                                                 \n",
            " global_average_pooling2d_2  (None, 64)                0         \n",
            "  (GlobalAveragePooling2D)                                       \n",
            "                                                                 \n",
            " dropout_3 (Dropout)         (None, 64)                0         \n",
            "                                                                 \n",
            " dense_25 (Dense)            (None, 64)                4160      \n",
            "                                                                 \n",
            " dense_26 (Dense)            (None, 128)               8320      \n",
            "                                                                 \n",
            " dense_27 (Dense)            (None, 64)                8256      \n",
            "                                                                 \n",
            " dense_28 (Dense)            (None, 32)                2080      \n",
            "                                                                 \n",
            " dense_29 (Dense)            (None, 1)                 33        \n",
            "                                                                 \n",
            "=================================================================\n",
            "Total params: 154177 (602.25 KB)\n",
            "Trainable params: 153601 (600.00 KB)\n",
            "Non-trainable params: 576 (2.25 KB)\n",
            "_________________________________________________________________\n"
          ]
        }
      ]
    },
    {
      "cell_type": "code",
      "source": [
        "# 학습 방법 설정\n",
        "model1.compile(\n",
        "    loss = 'binary_crossentropy',\n",
        "    optimizer = 'Adam',\n",
        "    metrics = ['accuracy']\n",
        ")"
      ],
      "metadata": {
        "id": "D6x1QBLuMU9N"
      },
      "execution_count": null,
      "outputs": []
    },
    {
      "cell_type": "code",
      "source": [
        "model1.fit(\n",
        "    train_generator, #학습 데이터(X_train, y_train이 합쳐져 있다.)\n",
        "    epochs = 20,\n",
        "    validation_data = valid_generator\n",
        ")"
      ],
      "metadata": {
        "colab": {
          "base_uri": "https://localhost:8080/"
        },
        "id": "OL06Pj1XkoLo",
        "outputId": "9ba543f1-c752-453b-f90b-d2423f295b65"
      },
      "execution_count": null,
      "outputs": [
        {
          "output_type": "stream",
          "name": "stdout",
          "text": [
            "Epoch 1/20\n",
            "20/20 [==============================] - 18s 587ms/step - loss: 0.6654 - accuracy: 0.5970 - val_loss: 0.6972 - val_accuracy: 0.5000\n",
            "Epoch 2/20\n",
            "20/20 [==============================] - 9s 467ms/step - loss: 0.6189 - accuracy: 0.6715 - val_loss: 0.7800 - val_accuracy: 0.5000\n",
            "Epoch 3/20\n",
            "20/20 [==============================] - 10s 500ms/step - loss: 0.5791 - accuracy: 0.7025 - val_loss: 1.0601 - val_accuracy: 0.5000\n",
            "Epoch 4/20\n",
            "20/20 [==============================] - 10s 491ms/step - loss: 0.5429 - accuracy: 0.7335 - val_loss: 1.1481 - val_accuracy: 0.5000\n",
            "Epoch 5/20\n",
            "20/20 [==============================] - 9s 469ms/step - loss: 0.5222 - accuracy: 0.7515 - val_loss: 1.2467 - val_accuracy: 0.5000\n",
            "Epoch 6/20\n",
            "20/20 [==============================] - 11s 563ms/step - loss: 0.4983 - accuracy: 0.7585 - val_loss: 1.2795 - val_accuracy: 0.5000\n",
            "Epoch 7/20\n",
            "20/20 [==============================] - 9s 455ms/step - loss: 0.4776 - accuracy: 0.7780 - val_loss: 1.4953 - val_accuracy: 0.5000\n",
            "Epoch 8/20\n",
            "20/20 [==============================] - 9s 477ms/step - loss: 0.4638 - accuracy: 0.7965 - val_loss: 2.1572 - val_accuracy: 0.5000\n",
            "Epoch 9/20\n",
            "20/20 [==============================] - 10s 484ms/step - loss: 0.4178 - accuracy: 0.8250 - val_loss: 1.9600 - val_accuracy: 0.5000\n",
            "Epoch 10/20\n",
            "20/20 [==============================] - 9s 464ms/step - loss: 0.3853 - accuracy: 0.8360 - val_loss: 2.7919 - val_accuracy: 0.5000\n",
            "Epoch 11/20\n",
            "20/20 [==============================] - 9s 466ms/step - loss: 0.4018 - accuracy: 0.8200 - val_loss: 1.5685 - val_accuracy: 0.5000\n",
            "Epoch 12/20\n",
            "20/20 [==============================] - 10s 502ms/step - loss: 0.3595 - accuracy: 0.8480 - val_loss: 2.0787 - val_accuracy: 0.5000\n",
            "Epoch 13/20\n",
            "20/20 [==============================] - 9s 474ms/step - loss: 0.3186 - accuracy: 0.8575 - val_loss: 3.1420 - val_accuracy: 0.5000\n",
            "Epoch 14/20\n",
            "20/20 [==============================] - 11s 563ms/step - loss: 0.3197 - accuracy: 0.8675 - val_loss: 2.2126 - val_accuracy: 0.5000\n",
            "Epoch 15/20\n",
            "20/20 [==============================] - 9s 455ms/step - loss: 0.3310 - accuracy: 0.8605 - val_loss: 2.2348 - val_accuracy: 0.5000\n",
            "Epoch 16/20\n",
            "20/20 [==============================] - 10s 487ms/step - loss: 0.2692 - accuracy: 0.8880 - val_loss: 2.6342 - val_accuracy: 0.5000\n",
            "Epoch 17/20\n",
            "20/20 [==============================] - 9s 476ms/step - loss: 0.2377 - accuracy: 0.8990 - val_loss: 2.6477 - val_accuracy: 0.5000\n",
            "Epoch 18/20\n",
            "20/20 [==============================] - 11s 566ms/step - loss: 0.2108 - accuracy: 0.9165 - val_loss: 2.7189 - val_accuracy: 0.5010\n",
            "Epoch 19/20\n",
            "20/20 [==============================] - 9s 449ms/step - loss: 0.2138 - accuracy: 0.9160 - val_loss: 2.6328 - val_accuracy: 0.5000\n",
            "Epoch 20/20\n",
            "20/20 [==============================] - 9s 453ms/step - loss: 0.1790 - accuracy: 0.9240 - val_loss: 2.3637 - val_accuracy: 0.5010\n"
          ]
        },
        {
          "output_type": "execute_result",
          "data": {
            "text/plain": [
              "<keras.src.callbacks.History at 0x7def3489d900>"
            ]
          },
          "metadata": {},
          "execution_count": 42
        }
      ]
    },
    {
      "cell_type": "markdown",
      "source": [
        "![image.png](data:image/png;base64,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)"
      ],
      "metadata": {
        "id": "8-zBajrvnyQ3"
      }
    },
    {
      "cell_type": "markdown",
      "source": [
        "- 전이 학습을 하는 이유\n",
        "  - 데이터가 부족\n",
        "  - 설계한 신경망 그닥 좋지 못함\n",
        "- 전이학습의 종류\n",
        "  - CNN층을 그대로 사용하는 것(가중치)\n",
        "  - 특성추출: CNN 층의 가중치를 그대로 사용\n",
        "  - 미세조정: fine tuning : CNN층의 가중치를 일부 살짝 변경해서 사용"
      ],
      "metadata": {
        "id": "CpWjDywhkqAf"
      }
    },
    {
      "cell_type": "code",
      "source": [],
      "metadata": {
        "id": "F06JziQioJkP"
      },
      "execution_count": null,
      "outputs": []
    }
  ]
}