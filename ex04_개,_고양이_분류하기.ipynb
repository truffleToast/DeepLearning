{
  "nbformat": 4,
  "nbformat_minor": 0,
  "metadata": {
    "colab": {
      "provenance": [],
      "gpuType": "T4",
      "mount_file_id": "1xsge7zrT_uOKXgFbk1tQgZVTFeqTzM6k",
      "authorship_tag": "ABX9TyNSL/SubvoqnGtQ19U+Clod",
      "include_colab_link": true
    },
    "kernelspec": {
      "name": "python3",
      "display_name": "Python 3"
    },
    "language_info": {
      "name": "python"
    },
    "accelerator": "GPU"
  },
  "cells": [
    {
      "cell_type": "markdown",
      "metadata": {
        "id": "view-in-github",
        "colab_type": "text"
      },
      "source": [
        "<a href=\"https://colab.research.google.com/github/truffleToast/DeepLearning/blob/main/ex04_%EA%B0%9C%2C_%EA%B3%A0%EC%96%91%EC%9D%B4_%EB%B6%84%EB%A5%98%ED%95%98%EA%B8%B0.ipynb\" target=\"_parent\"><img src=\"https://colab.research.google.com/assets/colab-badge.svg\" alt=\"Open In Colab\"/></a>"
      ]
    },
    {
      "cell_type": "code",
      "execution_count": 1,
      "metadata": {
        "id": "vEJu83Dd0ZtM"
      },
      "outputs": [],
      "source": [
        "import numpy as np\n",
        "import pandas as pd"
      ]
    },
    {
      "cell_type": "code",
      "source": [
        "train_dir ='/content/drive/MyDrive/Colab Notebooks/deepLearning/data/train'\n",
        "valid_dir ='/content/drive/MyDrive/Colab Notebooks/deepLearning/data/validation'"
      ],
      "metadata": {
        "id": "JqnzII2Q_Udl"
      },
      "execution_count": 2,
      "outputs": []
    },
    {
      "cell_type": "code",
      "source": [
        "# 하나의 변수에 이미지 파일 전부 합치기\n",
        "# 픽셀값 변경(0~255/ 정수) > 0~1 실수\n",
        "## 1. 숫자 크기 줄이기 > 연산량 감소\n",
        "## 2. 분산(값이 분포해 있는 범위 줄이기) > 연산의 오류 줄어듦\n",
        "## 이미지 크기 맞춰주기 (150,150)\n",
        "# 라벨링\n",
        "from tensorflow.keras.preprocessing.image import ImageDataGenerator"
      ],
      "metadata": {
        "id": "P2TAu2Zr_o2Q"
      },
      "execution_count": 3,
      "outputs": []
    },
    {
      "cell_type": "code",
      "source": [
        "# 픽셀값 변경 기능 만들기\n",
        "# 묵시적 형변환 하기\n",
        "## 프로그래밍에서 연산상 타입이 변경되도록 하기\n",
        "generator =ImageDataGenerator(rescale= 1./255) # 1. = 1.0"
      ],
      "metadata": {
        "id": "QkIPORxk_ufL"
      },
      "execution_count": 4,
      "outputs": []
    },
    {
      "cell_type": "code",
      "source": [
        "# 하나의 변수에 이미지 파일 전부다 합쳐주기\n",
        "# 이미지 크기 동일하게 만들기\n",
        "# 라벨링\n",
        "train_generator = generator.flow_from_directory(\n",
        "    directory = train_dir, # train 이미지 경로\n",
        "    target_size = (150,150), # 변환할 이미지 크기\n",
        "    batch_size =100, # 한번에 변환할 이미지의 개수\n",
        "    class_mode ='binary' # 라벨링 방법\n",
        ")"
      ],
      "metadata": {
        "colab": {
          "base_uri": "https://localhost:8080/"
        },
        "id": "1NeamSSdBE9P",
        "outputId": "ecd30962-789b-4a74-f627-bd0c19f4186c"
      },
      "execution_count": 5,
      "outputs": [
        {
          "output_type": "stream",
          "name": "stdout",
          "text": [
            "Found 2000 images belonging to 2 classes.\n"
          ]
        }
      ]
    },
    {
      "cell_type": "code",
      "source": [
        "# 하나의 변수에 이미지 파일 전부다 합쳐주기\n",
        "# 이미지 크기 동일하게 만들기\n",
        "# 라벨링\n",
        "valid_generator = generator.flow_from_directory(\n",
        "    directory = valid_dir, # train 이미지 경로\n",
        "    target_size = (150,150), # 변환할 이미지 크기\n",
        "    batch_size =100, # 한번에 변환할 이미지의 개수\n",
        "    class_mode ='binary' # 라벨링 방법\n",
        ")"
      ],
      "metadata": {
        "colab": {
          "base_uri": "https://localhost:8080/"
        },
        "id": "q57SELIKB8AK",
        "outputId": "88acfd2e-e0bb-4ba9-85a1-214c1fb0b508"
      },
      "execution_count": 6,
      "outputs": [
        {
          "output_type": "stream",
          "name": "stdout",
          "text": [
            "Found 1000 images belonging to 2 classes.\n"
          ]
        }
      ]
    },
    {
      "cell_type": "code",
      "source": [
        "#CNN 모델 설계\n",
        "from tensorflow.keras import Sequential\n",
        "from tensorflow.keras.layers import Dense, Conv2D, MaxPool2D, Flatten"
      ],
      "metadata": {
        "id": "xoey3WrGCqYk"
      },
      "execution_count": 7,
      "outputs": []
    },
    {
      "cell_type": "code",
      "source": [
        "# 딥러닝 모델 생성\n",
        "# 건물 토대 설계\n",
        "model1 =Sequential()\n",
        "#입력층\n",
        "model1.add(Conv2D( #특징 찾기\n",
        "    filters =32,  #찾을 특징의 개수\n",
        "    kernel_size =(3,3), # 특징의 크기\n",
        "    input_shape = (150,150,3), # 입력 데이터의 모양 (3 =RGB)\n",
        "    activation = 'relu'\n",
        "))\n",
        "\n",
        "model1.add(MaxPool2D( #특징이 아닌 부분 삭제하기\n",
        "    pool_size =(2,2)  # 기준 크기에서 1개의 특징만 가져오기/ 4개중에 하나만 사용하기\n",
        "))\n",
        "\n",
        "\n",
        "#### 특징 추출부 끝 #######\n",
        "model1.add(Flatten())\n",
        "##### 분류 분석 시작########\n",
        "model1.add(Dense(units =32, activation = 'relu'))\n",
        "\n",
        "#출력층\n",
        "model1.add(Dense(units=1, activation ='sigmoid'))"
      ],
      "metadata": {
        "id": "tj3HjzbmEsuT"
      },
      "execution_count": 8,
      "outputs": []
    },
    {
      "cell_type": "code",
      "source": [
        "# 학습방법 설정\n",
        "model1.compile(\n",
        "    loss= 'binary_crossentropy',\n",
        "    optimizer ='Adam',\n",
        "    metrics =['Accuracy']\n",
        ")"
      ],
      "metadata": {
        "id": "q5CAR7xhEziH"
      },
      "execution_count": 9,
      "outputs": []
    },
    {
      "cell_type": "code",
      "source": [
        "model1.fit(\n",
        "    train_generator, #학습 데이타(X_train, y_train이 겹쳐져 있다.)\n",
        "    epochs =20,\n",
        "    validation_data = valid_generator\n",
        ")"
      ],
      "metadata": {
        "colab": {
          "base_uri": "https://localhost:8080/"
        },
        "id": "d1KZs5Q3OWNJ",
        "outputId": "60671374-9432-4274-8670-6612c7d33041"
      },
      "execution_count": null,
      "outputs": [
        {
          "output_type": "stream",
          "name": "stdout",
          "text": [
            "Epoch 1/20\n",
            "20/20 [==============================] - 476s 24s/step - loss: 2.1423 - Accuracy: 0.5060 - val_loss: 0.6932 - val_Accuracy: 0.5000\n",
            "Epoch 2/20\n",
            "20/20 [==============================] - 11s 542ms/step - loss: 0.6932 - Accuracy: 0.5000 - val_loss: 0.6932 - val_Accuracy: 0.5000\n",
            "Epoch 3/20\n",
            "20/20 [==============================] - 9s 435ms/step - loss: 0.6932 - Accuracy: 0.5000 - val_loss: 0.6932 - val_Accuracy: 0.5000\n",
            "Epoch 4/20\n",
            "20/20 [==============================] - 9s 455ms/step - loss: 0.6932 - Accuracy: 0.5000 - val_loss: 0.6932 - val_Accuracy: 0.5000\n",
            "Epoch 5/20\n",
            "20/20 [==============================] - 9s 459ms/step - loss: 0.6932 - Accuracy: 0.5000 - val_loss: 0.6932 - val_Accuracy: 0.5000\n",
            "Epoch 6/20\n",
            "20/20 [==============================] - 9s 434ms/step - loss: 0.6932 - Accuracy: 0.5000 - val_loss: 0.6932 - val_Accuracy: 0.5000\n",
            "Epoch 7/20\n",
            "20/20 [==============================] - 9s 440ms/step - loss: 0.6932 - Accuracy: 0.5000 - val_loss: 0.6932 - val_Accuracy: 0.5000\n",
            "Epoch 8/20\n",
            "20/20 [==============================] - 9s 443ms/step - loss: 0.6932 - Accuracy: 0.5000 - val_loss: 0.6932 - val_Accuracy: 0.5000\n",
            "Epoch 9/20\n",
            "20/20 [==============================] - 8s 428ms/step - loss: 0.6932 - Accuracy: 0.5000 - val_loss: 0.6932 - val_Accuracy: 0.5000\n",
            "Epoch 10/20\n",
            "20/20 [==============================] - 8s 420ms/step - loss: 0.6932 - Accuracy: 0.5000 - val_loss: 0.6932 - val_Accuracy: 0.5000\n",
            "Epoch 11/20\n",
            "20/20 [==============================] - 9s 453ms/step - loss: 0.6932 - Accuracy: 0.5000 - val_loss: 0.6931 - val_Accuracy: 0.5000\n",
            "Epoch 12/20\n",
            " 5/20 [======>.......................] - ETA: 4s - loss: 0.6932 - Accuracy: 0.4900"
          ]
        }
      ]
    },
    {
      "cell_type": "code",
      "source": [
        "cat = \"/content/cat.jpg\"\n",
        "dog =\"/content/dog.png\"\n",
        "tomas = \"/content/tomas.jpg\""
      ],
      "metadata": {
        "id": "GM-FRyAkPDm4"
      },
      "execution_count": null,
      "outputs": []
    },
    {
      "cell_type": "code",
      "source": [
        "import PIL.Image as pimg\n",
        "import cv2\n",
        "cat_img = cv2.imread(cat,cv2.IMREAD_COLOR)\n",
        "cat_img = cv2.cvtColor(cat_img, cv2.COLOR_BGR2RGB)\n",
        "cat_img = cv2.resize(cat_img,(150,150))\n",
        "cat_img = cat_img.reshape((1,150,150,3))"
      ],
      "metadata": {
        "id": "4ZU3WkkvJ1v5"
      },
      "execution_count": null,
      "outputs": []
    },
    {
      "cell_type": "code",
      "source": [
        "dog_img = cv2.imread(dog,cv2.IMREAD_COLOR)\n",
        "dog_img = cv2.cvtColor(dog_img, cv2.COLOR_BGR2RGB)\n",
        "dog_img = cv2.resize(dog_img,(150,150))\n",
        "dog_img = dog_img.reshape((1,150,150,3))"
      ],
      "metadata": {
        "id": "IX422RPqJ2hp"
      },
      "execution_count": null,
      "outputs": []
    },
    {
      "cell_type": "code",
      "source": [
        "tomas_img = cv2.imread(tomas,cv2.IMREAD_COLOR)\n",
        "tomas_img = cv2.cvtColor(tomas_img, cv2.COLOR_BGR2RGB)\n",
        "tomas_img = cv2.resize(tomas_img,(150,150))\n",
        "tomas_img = tomas_img.reshape((1,150,150,3))"
      ],
      "metadata": {
        "id": "6TbjL4PuMVWX"
      },
      "execution_count": null,
      "outputs": []
    },
    {
      "cell_type": "code",
      "source": [
        "cat_img"
      ],
      "metadata": {
        "id": "1LrvrM8OK1gS"
      },
      "execution_count": null,
      "outputs": []
    },
    {
      "cell_type": "code",
      "source": [
        "dog_img"
      ],
      "metadata": {
        "colab": {
          "base_uri": "https://localhost:8080/"
        },
        "id": "S69_e7ORK2Ss",
        "outputId": "83885e10-5611-4111-a87a-f6c09ccc0f12"
      },
      "execution_count": null,
      "outputs": [
        {
          "output_type": "execute_result",
          "data": {
            "text/plain": [
              "array([[[[ 71, 112,  76],\n",
              "         [ 71, 112,  76],\n",
              "         [ 71, 112,  76],\n",
              "         ...,\n",
              "         [ 71, 112,  76],\n",
              "         [ 71, 112,  76],\n",
              "         [ 71, 112,  76]],\n",
              "\n",
              "        [[ 71, 112,  76],\n",
              "         [ 71, 112,  76],\n",
              "         [ 71, 112,  76],\n",
              "         ...,\n",
              "         [ 71, 112,  76],\n",
              "         [ 71, 112,  76],\n",
              "         [ 71, 112,  76]],\n",
              "\n",
              "        [[ 71, 112,  76],\n",
              "         [ 71, 112,  76],\n",
              "         [ 71, 112,  76],\n",
              "         ...,\n",
              "         [ 71, 112,  76],\n",
              "         [ 71, 112,  76],\n",
              "         [ 71, 112,  76]],\n",
              "\n",
              "        ...,\n",
              "\n",
              "        [[ 71, 112,  76],\n",
              "         [ 71, 112,  76],\n",
              "         [ 71, 112,  76],\n",
              "         ...,\n",
              "         [ 71, 112,  76],\n",
              "         [ 71, 112,  76],\n",
              "         [ 71, 112,  76]],\n",
              "\n",
              "        [[ 32,  30,  34],\n",
              "         [ 32,  30,  34],\n",
              "         [ 32,  30,  34],\n",
              "         ...,\n",
              "         [ 32,  30,  34],\n",
              "         [ 32,  30,  34],\n",
              "         [ 32,  30,  34]],\n",
              "\n",
              "        [[ 32,  30,  34],\n",
              "         [ 32,  30,  34],\n",
              "         [ 32,  30,  34],\n",
              "         ...,\n",
              "         [ 32,  30,  34],\n",
              "         [ 32,  30,  34],\n",
              "         [ 32,  30,  34]]]], dtype=uint8)"
            ]
          },
          "metadata": {},
          "execution_count": 20
        }
      ]
    },
    {
      "cell_type": "code",
      "source": [
        "model1.predict(cat_img)"
      ],
      "metadata": {
        "id": "jyonRgJuK4gH"
      },
      "execution_count": null,
      "outputs": []
    },
    {
      "cell_type": "code",
      "source": [
        "model1.predict(dog_img)"
      ],
      "metadata": {
        "id": "KUrOgkiTLNFj"
      },
      "execution_count": null,
      "outputs": []
    },
    {
      "cell_type": "code",
      "source": [
        "model1.predict(tomas_img)"
      ],
      "metadata": {
        "id": "gj5ON5qgLRTF"
      },
      "execution_count": null,
      "outputs": []
    },
    {
      "cell_type": "code",
      "source": [
        "# 0은 cat\n",
        "# 1은 dog를 나타낸다\n",
        "# 대다수의 사람이 개라는 결과를 얻는다 = 모델이 학습이 덜 됫기 때문\n",
        "# 개의 규칙은 잘 찾았으나 고양이의 규칙은 잘 찾지 못했기 때문"
      ],
      "metadata": {
        "id": "-Xb3C6qaMnj5"
      },
      "execution_count": null,
      "outputs": []
    },
    {
      "cell_type": "markdown",
      "source": [
        "Pooling\n",
        "- 특정 지역의 대표값만 추출\n",
        "- 축소 샘플링이 이뤄짐 > 특징 집약적인 데이터가 만들어짐 > 과대적합"
      ],
      "metadata": {
        "id": "JBH1sCbJRn4z"
      }
    },
    {
      "cell_type": "code",
      "source": [
        "# train accuracy : 0.98\n",
        "# val accuracy : 0.7\n",
        "# 과대적합을 해소하는 가장 확실한 방법\n",
        "# 1. 데이터의 양을 늘린다.\n",
        "#2 2. 모델을 더 깊게 구성한다(층을 더 많이 쌓는다.)\n",
        "#3 . 데이터를 확장한다(가지고 있는 데이터를 다양하게 표현)"
      ],
      "metadata": {
        "id": "tlFh7VOMVO5P"
      },
      "execution_count": null,
      "outputs": []
    },
    {
      "cell_type": "code",
      "source": [
        "#데이터 확장을 언제해야하나\n",
        "# 데이터를 확장하면 원본 데이터는 사라진다."
      ],
      "metadata": {
        "id": "i2QyGolGUuJt"
      },
      "execution_count": null,
      "outputs": []
    },
    {
      "cell_type": "code",
      "source": [
        "# 기존모델에 확장 데이터로 학습하기\n",
        "aug_generator =ImageDataGenerator(\n",
        "    rescale  =1./255,\n",
        "    rotation_range =20,\n",
        "    width_shift_range = 0.1,\n",
        "    height_shift_range  = 0.1,\n",
        "    shear_range =0.1,\n",
        "    zoom_range = 0.1,\n",
        "    horizontal_flip = True,\n",
        "    fill_mode = 'nearest'\n",
        ")"
      ],
      "metadata": {
        "id": "UQcWHq0gW83l"
      },
      "execution_count": null,
      "outputs": []
    },
    {
      "cell_type": "code",
      "source": [
        "model1."
      ],
      "metadata": {
        "id": "QHqtxwB3ZIY6"
      },
      "execution_count": null,
      "outputs": []
    }
  ]
}